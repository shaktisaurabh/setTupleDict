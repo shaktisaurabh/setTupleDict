{
  "cells": [
    {
      "cell_type": "code",
      "execution_count": null,
      "metadata": {
        "id": "OsfLyEAM0QC9"
      },
      "outputs": [],
      "source": [
        "#A tuple is like list too but it is unmutable\n",
        "#Firstly tuple is ordered meaning (1,2,3) is not the same as (3,2,1)\n",
        "#secondly once declared tuple is unchangeble\n",
        "#Thirdly it allows duplicates"
      ]
    },
    {
      "cell_type": "code",
      "execution_count": null,
      "metadata": {
        "colab": {
          "base_uri": "https://localhost:8080/"
        },
        "id": "moWlRfg2mv1-",
        "outputId": "641f0c9e-0006-411d-ba9b-6abff5417550"
      },
      "outputs": [
        {
          "name": "stdout",
          "output_type": "stream",
          "text": [
            "('hello',)\n"
          ]
        }
      ],
      "source": [
        "#single item tuple\n",
        "a=('hello',)\n",
        "print(a)"
      ]
    },
    {
      "cell_type": "code",
      "execution_count": null,
      "metadata": {
        "colab": {
          "base_uri": "https://localhost:8080/"
        },
        "id": "9WXncZHGm5VO",
        "outputId": "7ab56d2b-165c-41af-ef36-5923f5dd9217"
      },
      "outputs": [
        {
          "name": "stdout",
          "output_type": "stream",
          "text": [
            "('hello',)\n"
          ]
        }
      ],
      "source": [
        "b=(1,)\n",
        "print(a)\n",
        "#if a comma , is not put then it will turn into a string"
      ]
    },
    {
      "cell_type": "code",
      "execution_count": null,
      "metadata": {
        "colab": {
          "base_uri": "https://localhost:8080/"
        },
        "id": "-SAb0ErInDIm",
        "outputId": "07c16558-5c7c-4f6e-811e-918a26f04480"
      },
      "outputs": [
        {
          "name": "stdout",
          "output_type": "stream",
          "text": [
            "1\n"
          ]
        }
      ],
      "source": [
        "b1=(1)\n",
        "print(b1)"
      ]
    },
    {
      "cell_type": "code",
      "execution_count": null,
      "metadata": {
        "colab": {
          "base_uri": "https://localhost:8080/"
        },
        "id": "B-kkAZA1nHjp",
        "outputId": "f6018205-1159-404f-c513-acd53dd8956b"
      },
      "outputs": [
        {
          "name": "stdout",
          "output_type": "stream",
          "text": [
            "halloween\n"
          ]
        }
      ],
      "source": [
        "b2=('halloween')\n",
        "print(b2)"
      ]
    },
    {
      "cell_type": "code",
      "execution_count": null,
      "metadata": {
        "colab": {
          "base_uri": "https://localhost:8080/"
        },
        "id": "nLn2Wi69uzAX",
        "outputId": "d49e5310-9634-4cf3-93b2-d574e8b0c09a"
      },
      "outputs": [
        {
          "name": "stdout",
          "output_type": "stream",
          "text": [
            "(4, 3, 2, 1)\n"
          ]
        }
      ],
      "source": [
        "b3=(1,2,3,4)\n",
        "print(b3[::-1])"
      ]
    },
    {
      "cell_type": "code",
      "execution_count": null,
      "metadata": {
        "colab": {
          "base_uri": "https://localhost:8080/",
          "height": 200
        },
        "id": "Da12_Gq4zM04",
        "outputId": "28cceff4-6810-4f54-ef0f-fdb183cfdfe9"
      },
      "outputs": [
        {
          "ename": "NameError",
          "evalue": "ignored",
          "output_type": "error",
          "traceback": [
            "\u001b[0;31m---------------------------------------------------------------------------\u001b[0m",
            "\u001b[0;31mNameError\u001b[0m                                 Traceback (most recent call last)",
            "\u001b[0;32m<ipython-input-6-cf4504c25d25>\u001b[0m in \u001b[0;36m<cell line: 4>\u001b[0;34m()\u001b[0m\n\u001b[1;32m      2\u001b[0m \u001b[0mt5\u001b[0m\u001b[0;34m=\u001b[0m\u001b[0;34m(\u001b[0m\u001b[0;36m1\u001b[0m\u001b[0;34m,\u001b[0m\u001b[0;36m2\u001b[0m\u001b[0;34m,\u001b[0m\u001b[0;36m3\u001b[0m\u001b[0;34m,\u001b[0m\u001b[0;36m4\u001b[0m\u001b[0;34m,\u001b[0m\u001b[0;36m5\u001b[0m\u001b[0;34m)\u001b[0m\u001b[0;34m\u001b[0m\u001b[0;34m\u001b[0m\u001b[0m\n\u001b[1;32m      3\u001b[0m \u001b[0;32mdel\u001b[0m \u001b[0mt5\u001b[0m\u001b[0;34m\u001b[0m\u001b[0;34m\u001b[0m\u001b[0m\n\u001b[0;32m----> 4\u001b[0;31m \u001b[0mprint\u001b[0m\u001b[0;34m(\u001b[0m\u001b[0mt5\u001b[0m\u001b[0;34m)\u001b[0m\u001b[0;34m\u001b[0m\u001b[0;34m\u001b[0m\u001b[0m\n\u001b[0m",
            "\u001b[0;31mNameError\u001b[0m: name 't5' is not defined"
          ]
        }
      ],
      "source": [
        "#adddition and editing of tuple doesnot work only complete deletion works\n",
        "t5=(1,2,3,4,5)\n",
        "del t5\n",
        "print(t5)"
      ]
    },
    {
      "cell_type": "code",
      "execution_count": null,
      "metadata": {
        "colab": {
          "base_uri": "https://localhost:8080/"
        },
        "id": "CsZwqDGJ1nkE",
        "outputId": "bb59c76a-7bd9-4263-90df-c89522c37c11"
      },
      "outputs": [
        {
          "name": "stdout",
          "output_type": "stream",
          "text": [
            "(1, 2, 3, 4, 5, 6, 7, 8)\n"
          ]
        }
      ],
      "source": [
        "t1=(1,2,3,4)\n",
        "t2=(5,6,7,8)\n",
        "print(t1+t2)"
      ]
    },
    {
      "cell_type": "code",
      "execution_count": null,
      "metadata": {
        "colab": {
          "base_uri": "https://localhost:8080/"
        },
        "id": "TqqyZQQC22x8",
        "outputId": "4addfcad-073e-4e01-e9b3-ad07bfa93c65"
      },
      "outputs": [
        {
          "name": "stdout",
          "output_type": "stream",
          "text": [
            "(1, 2, 3, 4, 1, 2, 3, 4, 1, 2, 3, 4)\n"
          ]
        }
      ],
      "source": [
        "print(t1*3)"
      ]
    },
    {
      "cell_type": "code",
      "execution_count": null,
      "metadata": {
        "id": "5gGxRBhB29Oc"
      },
      "outputs": [],
      "source": [
        "# len(),sum(),min(),max(),sorted() exists in both tuples and list"
      ]
    },
    {
      "cell_type": "code",
      "execution_count": null,
      "metadata": {
        "colab": {
          "base_uri": "https://localhost:8080/"
        },
        "id": "u27Jpf3f3yVJ",
        "outputId": "8255c296-7291-400f-b55a-b0ec4f54e627"
      },
      "outputs": [
        {
          "data": {
            "text/plain": [
              "4"
            ]
          },
          "execution_count": 10,
          "metadata": {},
          "output_type": "execute_result"
        }
      ],
      "source": [
        "s=(1,2,3,5,4,3,5,4,5,4,5,4)\n",
        "s.count(5)"
      ]
    },
    {
      "cell_type": "code",
      "execution_count": null,
      "metadata": {
        "colab": {
          "base_uri": "https://localhost:8080/"
        },
        "id": "tna8FrnI4C8S",
        "outputId": "afd09d76-0f2c-472e-9a9f-d99830624b79"
      },
      "outputs": [
        {
          "data": {
            "text/plain": [
              "3"
            ]
          },
          "execution_count": 11,
          "metadata": {},
          "output_type": "execute_result"
        }
      ],
      "source": [
        "s.index(5)"
      ]
    },
    {
      "cell_type": "code",
      "execution_count": null,
      "metadata": {
        "id": "1qqWXLg34Huz"
      },
      "outputs": [],
      "source": [
        "#immutable datatypes are faster than mutable datatypes hence tuples are faster than lists"
      ]
    },
    {
      "cell_type": "code",
      "execution_count": null,
      "metadata": {
        "colab": {
          "base_uri": "https://localhost:8080/"
        },
        "id": "3Ii7AEh5R06P",
        "outputId": "24feb630-cb56-41a7-cd77-b3dfc216d415"
      },
      "outputs": [
        {
          "name": "stdout",
          "output_type": "stream",
          "text": [
            "list time:  28.376322507858276\n",
            "tuple time:  15.445274829864502\n"
          ]
        }
      ],
      "source": [
        "import time\n",
        "l=list(range(100000000))\n",
        "t=tuple(range(100000000))\n",
        "start=time.time()\n",
        "for i in l:\n",
        "  i*5\n",
        "print(\"list time: \",time.time()-start)\n",
        "start1=time.time()\n",
        "for i in t:\n",
        "  i*5\n",
        "print(\"tuple time: \",time.time()-start1)\n",
        "#speed of tuple is less"
      ]
    },
    {
      "cell_type": "code",
      "execution_count": null,
      "metadata": {
        "colab": {
          "base_uri": "https://localhost:8080/"
        },
        "id": "pxGElWdZp8yI",
        "outputId": "f3c0dfd2-3aa7-4f86-a991-d32b8e471ce2"
      },
      "outputs": [
        {
          "name": "stdout",
          "output_type": "stream",
          "text": [
            "list size is  8056\n",
            "tuple size is  8040\n"
          ]
        }
      ],
      "source": [
        "import sys\n",
        "l=list(range(1000))\n",
        "t=tuple(range(1000))\n",
        "print('list size is ',sys.getsizeof(l))\n",
        "print('tuple size is ',sys.getsizeof(t))\n",
        "#size of tuple is less"
      ]
    },
    {
      "cell_type": "code",
      "execution_count": null,
      "metadata": {
        "colab": {
          "base_uri": "https://localhost:8080/"
        },
        "id": "SpHGahOqrC3y",
        "outputId": "345e38be-009a-45bc-ef60-8cf12b202692"
      },
      "outputs": [
        {
          "name": "stdout",
          "output_type": "stream",
          "text": [
            "(1, 2, 3, 4)\n",
            "(1, 2, 3)\n"
          ]
        }
      ],
      "source": [
        "a=(1,2,3)\n",
        "b=a\n",
        "a=a+(4,)\n",
        "print(a)\n",
        "print(b)\n",
        "#even though as he changes, no change is reflected on b\n",
        "#When you do a=a+(4,) then a new tuple is created (1,2,3,4) and a is reassigned to it , (1,2,3,4) is pointing to a new location\n",
        "#The original tuple (1,2,3) is not modified and it points to a newly created tuple and (1,2,3,4) points to a different memory location\n",
        "#a is re-assigned to newly created tuple (1,2,3,4)"
      ]
    },
    {
      "cell_type": "code",
      "execution_count": null,
      "metadata": {
        "colab": {
          "base_uri": "https://localhost:8080/"
        },
        "id": "_U_eg1yBPDaj",
        "outputId": "ef969261-d043-41a3-910d-5d31479a6903"
      },
      "outputs": [
        {
          "name": "stdout",
          "output_type": "stream",
          "text": [
            "1 2 3\n"
          ]
        }
      ],
      "source": [
        "#tuple unpacking\n",
        "a,b,c=(1,2,3)\n",
        "print(a,b,c)"
      ]
    },
    {
      "cell_type": "code",
      "execution_count": null,
      "metadata": {
        "colab": {
          "base_uri": "https://localhost:8080/"
        },
        "id": "FBwd2lJ4UT2k",
        "outputId": "e5e9cae3-335c-4f43-d873-a28967679166"
      },
      "outputs": [
        {
          "name": "stdout",
          "output_type": "stream",
          "text": [
            "2 1\n"
          ]
        }
      ],
      "source": [
        "a=1\n",
        "b=2\n",
        "a,b=b,a\n",
        "print(a,b)"
      ]
    },
    {
      "cell_type": "code",
      "execution_count": null,
      "metadata": {
        "colab": {
          "base_uri": "https://localhost:8080/"
        },
        "id": "GMq-5h0NXuu2",
        "outputId": "0618d0e7-14b0-41ca-aa8b-f260b0ec1339"
      },
      "outputs": [
        {
          "name": "stdout",
          "output_type": "stream",
          "text": [
            "1\n",
            "2\n",
            "[3, 4]\n"
          ]
        }
      ],
      "source": [
        "a,b,*others=(1,2,3,4)\n",
        "print(a)\n",
        "print(b)\n",
        "print(others)\n",
        "#*others means rest of the elements are stored in others in the form of list"
      ]
    },
    {
      "cell_type": "code",
      "execution_count": null,
      "metadata": {
        "colab": {
          "base_uri": "https://localhost:8080/"
        },
        "id": "ChLrH0gtZhMm",
        "outputId": "05680250-1ee2-44ec-d5ca-f8f2dcf8cde9"
      },
      "outputs": [
        {
          "data": {
            "text/plain": [
              "[(1, 4), (2, 5), (3, 6)]"
            ]
          },
          "execution_count": 7,
          "metadata": {},
          "output_type": "execute_result"
        }
      ],
      "source": [
        "a=(1,2,3)\n",
        "b=(4,5,6)\n",
        "list(zip(a,b))"
      ]
    },
    {
      "cell_type": "code",
      "execution_count": null,
      "metadata": {
        "colab": {
          "base_uri": "https://localhost:8080/"
        },
        "id": "1wlkqfrBfClo",
        "outputId": "fef17f9c-271a-4351-b358-8231ea162de4"
      },
      "outputs": [
        {
          "data": {
            "text/plain": [
              "((1, 4), (2, 5), (3, 6))"
            ]
          },
          "execution_count": 8,
          "metadata": {},
          "output_type": "execute_result"
        }
      ],
      "source": [
        "tuple(zip(a,b))"
      ]
    },
    {
      "cell_type": "code",
      "execution_count": null,
      "metadata": {
        "id": "n9MuFW27xWRq"
      },
      "outputs": [],
      "source": [
        "# Assigning an integer value to a variable\n",
        "x = 10\n",
        "\n",
        "# Trying to modify the value of x directly\n",
        "x = 20  # This creates a new integer object with value 20 and assigns it to x\n",
        "\n",
        "# Printing the value of x\n",
        "print(x)  # Output: 20\n",
        "#In this example when we assign the value 10 with variable x a new integer object with value 10 is created. Later when we assign 20 to x a new integer object with value 20 is created\n",
        "#the variable x is updated to refer to this new object. The original value 10 is not modified, it is just discarded by python's memory management system\n",
        "# Assigning a float value to a variable\n",
        "y = 3.14\n",
        "\n",
        "# Trying to modify the value of y directly\n",
        "y = 2.71  # This creates a new float object with value 2.71 and assigns it to y\n",
        "\n",
        "# Printing the value of y\n",
        "print(y)  # Output: 2.71\n",
        "#when 3.14 is assigned to variable y, a new float object with value 3.14 is created. Later when we assign 2.71 to y, a new float object with 2.71 is created and the variable y is\n",
        "#updated to refer to this new object\n",
        "#"
      ]
    },
    {
      "cell_type": "code",
      "execution_count": null,
      "metadata": {
        "colab": {
          "base_uri": "https://localhost:8080/",
          "height": 200
        },
        "id": "GyBtuY9t6sbz",
        "outputId": "32cfe3e2-9e87-4b33-9298-ddf39a977955"
      },
      "outputs": [
        {
          "ename": "TypeError",
          "evalue": "ignored",
          "output_type": "error",
          "traceback": [
            "\u001b[0;31m---------------------------------------------------------------------------\u001b[0m",
            "\u001b[0;31mTypeError\u001b[0m                                 Traceback (most recent call last)",
            "\u001b[0;32m<ipython-input-1-27ead9d640c4>\u001b[0m in \u001b[0;36m<cell line: 6>\u001b[0;34m()\u001b[0m\n\u001b[1;32m      4\u001b[0m \u001b[0;34m\u001b[0m\u001b[0m\n\u001b[1;32m      5\u001b[0m \u001b[0;31m# Attempting to add a list (mutable) as an element will raise an error\u001b[0m\u001b[0;34m\u001b[0m\u001b[0;34m\u001b[0m\u001b[0m\n\u001b[0;32m----> 6\u001b[0;31m \u001b[0mmy_set\u001b[0m\u001b[0;34m.\u001b[0m\u001b[0madd\u001b[0m\u001b[0;34m(\u001b[0m\u001b[0;34m[\u001b[0m\u001b[0;36m4\u001b[0m\u001b[0;34m,\u001b[0m \u001b[0;36m5\u001b[0m\u001b[0;34m]\u001b[0m\u001b[0;34m)\u001b[0m  \u001b[0;31m# TypeError: unhashable type: 'list'\u001b[0m\u001b[0;34m\u001b[0m\u001b[0;34m\u001b[0m\u001b[0m\n\u001b[0m",
            "\u001b[0;31mTypeError\u001b[0m: unhashable type: 'list'"
          ]
        }
      ],
      "source": [
        "#while set itself is immutable, elements added to set should be unique and mutable(for example integer and floats) and adding unmutable elements to set would give errors\n",
        "# Elements of the set are immutable (integers)\n",
        "my_set = {1, 2, 3}\n",
        "\n",
        "# Attempting to add a list (mutable) as an element will raise an error\n",
        "my_set.add([4, 5])  # TypeError: unhashable type: 'list'\n"
      ]
    },
    {
      "cell_type": "code",
      "execution_count": null,
      "metadata": {
        "colab": {
          "base_uri": "https://localhost:8080/"
        },
        "id": "1_DpLl1w8-Ib",
        "outputId": "9cbf72fc-f775-41ea-c58f-87d110b15be3"
      },
      "outputs": [
        {
          "data": {
            "text/plain": [
              "{20}"
            ]
          },
          "execution_count": 3,
          "metadata": {},
          "output_type": "execute_result"
        }
      ],
      "source": [
        "# Creating an empty set\n",
        "my_set = set()\n",
        "\n",
        "# Adding elements to the set (set is mutable)\n",
        "my_set.add(10)\n",
        "my_set.add(20)\n",
        "\n",
        "# Removing an element from the set\n",
        "my_set.remove(10)\n",
        "my_set"
      ]
    },
    {
      "cell_type": "code",
      "execution_count": null,
      "metadata": {
        "colab": {
          "base_uri": "https://localhost:8080/"
        },
        "id": "Z8eX7uha9OL_",
        "outputId": "856329e1-78ba-4abe-cc45-9c8a71afc2e5"
      },
      "outputs": [
        {
          "data": {
            "text/plain": [
              "True"
            ]
          },
          "execution_count": 4,
          "metadata": {},
          "output_type": "execute_result"
        }
      ],
      "source": [
        "{1,2,3}=={3,2,1}"
      ]
    },
    {
      "cell_type": "code",
      "execution_count": null,
      "metadata": {
        "id": "ile6U-Xf9S7h"
      },
      "outputs": [],
      "source": [
        "#set is unordered,mutable and contains no duplicates ,cannot contain mutable datatypes like list\n",
        "#also set within a set is not possible as it contains only immutable objects"
      ]
    },
    {
      "cell_type": "code",
      "execution_count": null,
      "metadata": {
        "colab": {
          "base_uri": "https://localhost:8080/"
        },
        "id": "L9XWHJGQ-4OW",
        "outputId": "5c6f2895-d2dd-412c-9a8b-ac51d8a10215"
      },
      "outputs": [
        {
          "name": "stdout",
          "output_type": "stream",
          "text": [
            "<class 'dict'>\n"
          ]
        }
      ],
      "source": [
        "set1={}\n",
        "print(type(set))\n",
        "del set"
      ]
    },
    {
      "cell_type": "code",
      "execution_count": null,
      "metadata": {
        "colab": {
          "base_uri": "https://localhost:8080/"
        },
        "id": "iNaYbcBmzxJW",
        "outputId": "9906cc2e-6bd2-4eb2-e588-f27144729db5"
      },
      "outputs": [
        {
          "name": "stdout",
          "output_type": "stream",
          "text": [
            "<class 'set'>\n"
          ]
        }
      ],
      "source": [
        "s=set()\n",
        "print(type(s))"
      ]
    },
    {
      "cell_type": "code",
      "execution_count": null,
      "metadata": {
        "colab": {
          "base_uri": "https://localhost:8080/"
        },
        "id": "eGB5Gwxo5BCH",
        "outputId": "db56a553-9d02-41c7-f9dd-271c928b6054"
      },
      "outputs": [
        {
          "name": "stdout",
          "output_type": "stream",
          "text": [
            "{1, 4.5, 'hello'}\n"
          ]
        }
      ],
      "source": [
        "s3={1,\"hello\",4.5,True}\n",
        "print(s3)\n",
        "#Python treats True as 1 and as set doesnot take duplicates so True gets eliminated"
      ]
    },
    {
      "cell_type": "code",
      "execution_count": null,
      "metadata": {
        "colab": {
          "base_uri": "https://localhost:8080/"
        },
        "id": "GnIrYc_A6JYz",
        "outputId": "9d53445c-e5ed-41cb-eaa5-e9985353d91e"
      },
      "outputs": [
        {
          "name": "stdout",
          "output_type": "stream",
          "text": [
            "{True, 4.5, 'hello'}\n"
          ]
        }
      ],
      "source": [
        "s4={True,\"hello\",4.5,1}\n",
        "print(s4)"
      ]
    },
    {
      "cell_type": "code",
      "execution_count": null,
      "metadata": {
        "colab": {
          "base_uri": "https://localhost:8080/"
        },
        "id": "bQxD-TQV6bWa",
        "outputId": "7422cb34-e8ab-4a33-bde3-54fee4ec20b7"
      },
      "outputs": [
        {
          "name": "stdout",
          "output_type": "stream",
          "text": [
            "{1, (1, 2, 3), 4.5, 'hello'}\n"
          ]
        }
      ],
      "source": [
        "s5={1,\"hello\",4.5,(1,2,3)}\n",
        "print(s5)\n",
        "#the output that we get doesnot follow the same order as sets in python are unordered and the order in which output gets stored depends upon hashing"
      ]
    },
    {
      "cell_type": "code",
      "execution_count": null,
      "metadata": {
        "colab": {
          "base_uri": "https://localhost:8080/"
        },
        "id": "WEFVDnKZ9dJw",
        "outputId": "987e0e5e-0e1b-4390-cecc-39f637536f84"
      },
      "outputs": [
        {
          "name": "stdout",
          "output_type": "stream",
          "text": [
            "{1, 2, 3}\n"
          ]
        }
      ],
      "source": [
        "s6=set([1,2,3])\n",
        "print(s6)"
      ]
    },
    {
      "cell_type": "code",
      "execution_count": null,
      "metadata": {
        "colab": {
          "base_uri": "https://localhost:8080/"
        },
        "id": "AYKJzl5O9kqI",
        "outputId": "58117d5a-a847-4936-cdc6-ab73571b22ad"
      },
      "outputs": [
        {
          "name": "stdout",
          "output_type": "stream",
          "text": [
            "{1, 2, 3}\n"
          ]
        }
      ],
      "source": [
        "s7=set({1,1,2,2,3,3})\n",
        "print(s7)\n",
        "#duplicates are not allowed in sets"
      ]
    },
    {
      "cell_type": "code",
      "execution_count": null,
      "metadata": {
        "colab": {
          "base_uri": "https://localhost:8080/",
          "height": 200
        },
        "id": "QAy_EzZI971u",
        "outputId": "62bdf18f-83f1-4929-a9b5-3ec167da186d"
      },
      "outputs": [
        {
          "ename": "TypeError",
          "evalue": "ignored",
          "output_type": "error",
          "traceback": [
            "\u001b[0;31m---------------------------------------------------------------------------\u001b[0m",
            "\u001b[0;31mTypeError\u001b[0m                                 Traceback (most recent call last)",
            "\u001b[0;32m<ipython-input-13-070413c777d5>\u001b[0m in \u001b[0;36m<cell line: 1>\u001b[0;34m()\u001b[0m\n\u001b[0;32m----> 1\u001b[0;31m \u001b[0ms8\u001b[0m\u001b[0;34m=\u001b[0m\u001b[0mset\u001b[0m\u001b[0;34m(\u001b[0m\u001b[0;34m{\u001b[0m\u001b[0;36m1\u001b[0m\u001b[0;34m,\u001b[0m\u001b[0;36m2\u001b[0m\u001b[0;34m,\u001b[0m\u001b[0;36m3\u001b[0m\u001b[0;34m,\u001b[0m\u001b[0;34m[\u001b[0m\u001b[0;36m1\u001b[0m\u001b[0;34m,\u001b[0m\u001b[0;36m2\u001b[0m\u001b[0;34m,\u001b[0m\u001b[0;36m3\u001b[0m\u001b[0;34m]\u001b[0m\u001b[0;34m}\u001b[0m\u001b[0;34m)\u001b[0m\u001b[0;34m\u001b[0m\u001b[0;34m\u001b[0m\u001b[0m\n\u001b[0m\u001b[1;32m      2\u001b[0m \u001b[0mprint\u001b[0m\u001b[0;34m(\u001b[0m\u001b[0ms8\u001b[0m\u001b[0;34m)\u001b[0m\u001b[0;34m\u001b[0m\u001b[0;34m\u001b[0m\u001b[0m\n\u001b[1;32m      3\u001b[0m \u001b[0;31m#\u001b[0m\u001b[0;34m\u001b[0m\u001b[0;34m\u001b[0m\u001b[0m\n",
            "\u001b[0;31mTypeError\u001b[0m: unhashable type: 'list'"
          ]
        }
      ],
      "source": [
        "s8=set({1,2,3,[1,2,3]})\n",
        "print(s8)\n",
        "#list is mutable so it would give error, it cannot be item of the set"
      ]
    },
    {
      "cell_type": "code",
      "execution_count": null,
      "metadata": {
        "colab": {
          "base_uri": "https://localhost:8080/"
        },
        "id": "PQ-06dAgAZrz",
        "outputId": "2270692b-d5c5-458b-e6e3-dbaefe330da5"
      },
      "outputs": [
        {
          "name": "stdout",
          "output_type": "stream",
          "text": [
            "True\n"
          ]
        }
      ],
      "source": [
        "s1={1,2,3}\n",
        "s2={3,2,1}\n",
        "print(s1==s2)\n",
        "#sets are unordered, order doesnot matter here as long as contentes are same, lista and tuples are ordered, order matters in list and tuples"
      ]
    },
    {
      "cell_type": "code",
      "execution_count": null,
      "metadata": {
        "colab": {
          "base_uri": "https://localhost:8080/",
          "height": 182
        },
        "id": "H2L3dplhA0Hb",
        "outputId": "63f965c1-76d8-4a3a-f307-3ab5cbde01bc"
      },
      "outputs": [
        {
          "ename": "TypeError",
          "evalue": "ignored",
          "output_type": "error",
          "traceback": [
            "\u001b[0;31m---------------------------------------------------------------------------\u001b[0m",
            "\u001b[0;31mTypeError\u001b[0m                                 Traceback (most recent call last)",
            "\u001b[0;32m<ipython-input-15-d8c1f30cca25>\u001b[0m in \u001b[0;36m<cell line: 2>\u001b[0;34m()\u001b[0m\n\u001b[1;32m      1\u001b[0m \u001b[0ms1\u001b[0m\u001b[0;34m=\u001b[0m\u001b[0;34m{\u001b[0m\u001b[0;36m1\u001b[0m\u001b[0;34m,\u001b[0m\u001b[0;36m2\u001b[0m\u001b[0;34m,\u001b[0m\u001b[0;36m3\u001b[0m\u001b[0;34m}\u001b[0m\u001b[0;34m\u001b[0m\u001b[0;34m\u001b[0m\u001b[0m\n\u001b[0;32m----> 2\u001b[0;31m \u001b[0ms1\u001b[0m\u001b[0;34m[\u001b[0m\u001b[0;36m0\u001b[0m\u001b[0;34m]\u001b[0m\u001b[0;34m\u001b[0m\u001b[0;34m\u001b[0m\u001b[0m\n\u001b[0m",
            "\u001b[0;31mTypeError\u001b[0m: 'set' object is not subscriptable"
          ]
        }
      ],
      "source": [
        "s1={1,2,3}\n",
        "s1[0]\n",
        "#acessing items or slicing doesnot work in sets beacuse it is unordered"
      ]
    },
    {
      "cell_type": "code",
      "execution_count": null,
      "metadata": {
        "colab": {
          "base_uri": "https://localhost:8080/",
          "height": 200
        },
        "id": "rIinhdiHBO3R",
        "outputId": "a23ae7b3-901e-4bb3-9309-6b100c9d49a5"
      },
      "outputs": [
        {
          "ename": "TypeError",
          "evalue": "ignored",
          "output_type": "error",
          "traceback": [
            "\u001b[0;31m---------------------------------------------------------------------------\u001b[0m",
            "\u001b[0;31mTypeError\u001b[0m                                 Traceback (most recent call last)",
            "\u001b[0;32m<ipython-input-17-034b3f6774b0>\u001b[0m in \u001b[0;36m<cell line: 2>\u001b[0;34m()\u001b[0m\n\u001b[1;32m      1\u001b[0m \u001b[0ms1\u001b[0m\u001b[0;34m=\u001b[0m\u001b[0;34m(\u001b[0m\u001b[0;36m1\u001b[0m\u001b[0;34m,\u001b[0m\u001b[0;36m3\u001b[0m\u001b[0;34m,\u001b[0m\u001b[0;36m4\u001b[0m\u001b[0;34m)\u001b[0m\u001b[0;34m\u001b[0m\u001b[0;34m\u001b[0m\u001b[0m\n\u001b[0;32m----> 2\u001b[0;31m \u001b[0ms1\u001b[0m\u001b[0;34m[\u001b[0m\u001b[0;34m-\u001b[0m\u001b[0;36m1\u001b[0m\u001b[0;34m]\u001b[0m\u001b[0;34m=\u001b[0m\u001b[0;36m100\u001b[0m\u001b[0;34m\u001b[0m\u001b[0;34m\u001b[0m\u001b[0m\n\u001b[0m\u001b[1;32m      3\u001b[0m \u001b[0mprint\u001b[0m\u001b[0;34m(\u001b[0m\u001b[0ms1\u001b[0m\u001b[0;34m)\u001b[0m\u001b[0;34m\u001b[0m\u001b[0;34m\u001b[0m\u001b[0m\n",
            "\u001b[0;31mTypeError\u001b[0m: 'tuple' object does not support item assignment"
          ]
        }
      ],
      "source": [
        "s1=(1,3,4)\n",
        "s1[-1]=100\n",
        "print(s1)"
      ]
    },
    {
      "cell_type": "code",
      "execution_count": null,
      "metadata": {
        "colab": {
          "base_uri": "https://localhost:8080/"
        },
        "id": "p1SqVSlnBhJu",
        "outputId": "426c5ea6-1a0a-41ea-d573-5e8326af6ac2"
      },
      "outputs": [
        {
          "name": "stdout",
          "output_type": "stream",
          "text": [
            "(1, 3, 4, 4)\n"
          ]
        }
      ],
      "source": [
        "s1=s1+(4,)\n",
        "print(s1)"
      ]
    },
    {
      "cell_type": "code",
      "execution_count": null,
      "metadata": {
        "colab": {
          "base_uri": "https://localhost:8080/",
          "height": 182
        },
        "id": "DL20l363BFi8",
        "outputId": "fbded8a8-7984-4afc-a55a-5203ac961059"
      },
      "outputs": [
        {
          "ename": "TypeError",
          "evalue": "ignored",
          "output_type": "error",
          "traceback": [
            "\u001b[0;31m---------------------------------------------------------------------------\u001b[0m",
            "\u001b[0;31mTypeError\u001b[0m                                 Traceback (most recent call last)",
            "\u001b[0;32m<ipython-input-19-014bffd0cd72>\u001b[0m in \u001b[0;36m<cell line: 2>\u001b[0;34m()\u001b[0m\n\u001b[1;32m      1\u001b[0m \u001b[0ms1\u001b[0m\u001b[0;34m=\u001b[0m\u001b[0;34m{\u001b[0m\u001b[0;36m1\u001b[0m\u001b[0;34m,\u001b[0m\u001b[0;36m2\u001b[0m\u001b[0;34m,\u001b[0m\u001b[0;36m3\u001b[0m\u001b[0;34m,\u001b[0m\u001b[0;36m3\u001b[0m\u001b[0;34m}\u001b[0m\u001b[0;34m\u001b[0m\u001b[0;34m\u001b[0m\u001b[0m\n\u001b[0;32m----> 2\u001b[0;31m \u001b[0ms1\u001b[0m\u001b[0;34m[\u001b[0m\u001b[0;36m0\u001b[0m\u001b[0;34m]\u001b[0m\u001b[0;34m=\u001b[0m\u001b[0;36m100\u001b[0m\u001b[0;34m\u001b[0m\u001b[0;34m\u001b[0m\u001b[0m\n\u001b[0m",
            "\u001b[0;31mTypeError\u001b[0m: 'set' object does not support item assignment"
          ]
        }
      ],
      "source": [
        "s1={1,2,3,3}\n",
        "s1[0]=100\n",
        "#editing too doesnot work in set like tuples but unlike set which is mutable tuple is unmutable\n",
        "#once you declare set u can neither edit items nor view items in them\n",
        "#"
      ]
    },
    {
      "cell_type": "code",
      "execution_count": null,
      "metadata": {
        "colab": {
          "base_uri": "https://localhost:8080/"
        },
        "id": "DjO08ge2EVvg",
        "outputId": "f0ce6c66-a501-4661-8a28-6cc9d54b2945"
      },
      "outputs": [
        {
          "name": "stdout",
          "output_type": "stream",
          "text": [
            "{1, 2, 3, 4, 5}\n"
          ]
        }
      ],
      "source": [
        "s={1,2,3,4}\n",
        "s.add(5)\n",
        "print(s)\n",
        "#adding items to set, hashing control index position of added items"
      ]
    },
    {
      "cell_type": "code",
      "execution_count": null,
      "metadata": {
        "colab": {
          "base_uri": "https://localhost:8080/"
        },
        "id": "SLpFsg3SEntT",
        "outputId": "e62a12df-b2ef-49e2-bd53-8a4efa80453e"
      },
      "outputs": [
        {
          "name": "stdout",
          "output_type": "stream",
          "text": [
            "{1, 2, 3, 4, 5, 6, 7}\n"
          ]
        }
      ],
      "source": [
        "s.update([5,6,7])\n",
        "print(s)\n",
        "#update is used to add multiple items at once"
      ]
    },
    {
      "cell_type": "code",
      "execution_count": null,
      "metadata": {
        "colab": {
          "base_uri": "https://localhost:8080/"
        },
        "id": "2jyU37RDFfLi",
        "outputId": "806ca1dd-9585-499e-c300-d6c1be561d97"
      },
      "outputs": [
        {
          "name": "stdout",
          "output_type": "stream",
          "text": [
            "{1, 2, 3, 4}\n"
          ]
        }
      ],
      "source": [
        "s={1,2,3,4,5}\n",
        "s.discard(5)\n",
        "print(s)\n",
        "s.discard(50)"
      ]
    },
    {
      "cell_type": "code",
      "execution_count": null,
      "metadata": {
        "colab": {
          "base_uri": "https://localhost:8080/"
        },
        "id": "Wao4T5BAHuCO",
        "outputId": "85c7166e-3bbe-4959-a7d2-6fba8f36daf8"
      },
      "outputs": [
        {
          "name": "stdout",
          "output_type": "stream",
          "text": [
            "{1, 2, 3, 5}\n"
          ]
        }
      ],
      "source": [
        "s1={1,2,3,4,5}\n",
        "s1.remove(4)\n",
        "print(s1)"
      ]
    },
    {
      "cell_type": "code",
      "execution_count": null,
      "metadata": {
        "colab": {
          "base_uri": "https://localhost:8080/",
          "height": 182
        },
        "id": "3FT9WXcqH38u",
        "outputId": "8cd0b9e9-55f4-432a-ea1c-bc1e1dbb7aa7"
      },
      "outputs": [
        {
          "ename": "KeyError",
          "evalue": "ignored",
          "output_type": "error",
          "traceback": [
            "\u001b[0;31m---------------------------------------------------------------------------\u001b[0m",
            "\u001b[0;31mKeyError\u001b[0m                                  Traceback (most recent call last)",
            "\u001b[0;32m<ipython-input-5-f6d4886c6075>\u001b[0m in \u001b[0;36m<cell line: 1>\u001b[0;34m()\u001b[0m\n\u001b[0;32m----> 1\u001b[0;31m \u001b[0ms1\u001b[0m\u001b[0;34m.\u001b[0m\u001b[0mremove\u001b[0m\u001b[0;34m(\u001b[0m\u001b[0;36m50\u001b[0m\u001b[0;34m)\u001b[0m\u001b[0;34m\u001b[0m\u001b[0;34m\u001b[0m\u001b[0m\n\u001b[0m\u001b[1;32m      2\u001b[0m \u001b[0mprint\u001b[0m\u001b[0;34m(\u001b[0m\u001b[0ms1\u001b[0m\u001b[0;34m)\u001b[0m\u001b[0;34m\u001b[0m\u001b[0;34m\u001b[0m\u001b[0m\n",
            "\u001b[0;31mKeyError\u001b[0m: 50"
          ]
        }
      ],
      "source": [
        "s1.remove(50)\n",
        "print(s1)\n",
        "#remove would give error on trying to remove the item which doesnot exist whereas discard won't give any error"
      ]
    },
    {
      "cell_type": "code",
      "execution_count": null,
      "metadata": {
        "colab": {
          "base_uri": "https://localhost:8080/"
        },
        "id": "CnEZxla8J5dM",
        "outputId": "eeb457f6-98a5-496e-ea66-b45b471b80f6"
      },
      "outputs": [
        {
          "data": {
            "text/plain": [
              "1"
            ]
          },
          "execution_count": 6,
          "metadata": {},
          "output_type": "execute_result"
        }
      ],
      "source": [
        "s1.pop()\n",
        "#pop randomly deletes item from set"
      ]
    },
    {
      "cell_type": "code",
      "execution_count": null,
      "metadata": {
        "colab": {
          "base_uri": "https://localhost:8080/"
        },
        "id": "3mp3oBFyJ_71",
        "outputId": "d53fe209-f7f8-4b06-893e-73ccf5b26582"
      },
      "outputs": [
        {
          "data": {
            "text/plain": [
              "[]"
            ]
          },
          "execution_count": 8,
          "metadata": {},
          "output_type": "execute_result"
        }
      ],
      "source": [
        "l=[1,2,3,4]\n",
        "l.clear()\n",
        "l"
      ]
    },
    {
      "cell_type": "code",
      "execution_count": null,
      "metadata": {
        "colab": {
          "base_uri": "https://localhost:8080/"
        },
        "id": "vBaNnKoNKHeJ",
        "outputId": "e8969800-d701-41c5-bca8-73fb5c1f8a3c"
      },
      "outputs": [
        {
          "data": {
            "text/plain": [
              "set()"
            ]
          },
          "execution_count": 10,
          "metadata": {},
          "output_type": "execute_result"
        }
      ],
      "source": [
        "s1={1,2,3,4,5}\n",
        "s1.clear()\n",
        "s1\n",
        "#clear() clears all items from a set or list"
      ]
    },
    {
      "cell_type": "code",
      "execution_count": null,
      "metadata": {
        "colab": {
          "base_uri": "https://localhost:8080/",
          "height": 200
        },
        "id": "32E5elQKKWFt",
        "outputId": "4b0b6a72-dc7e-4d77-d25a-b806c03a756f"
      },
      "outputs": [
        {
          "ename": "AttributeError",
          "evalue": "ignored",
          "output_type": "error",
          "traceback": [
            "\u001b[0;31m---------------------------------------------------------------------------\u001b[0m",
            "\u001b[0;31mAttributeError\u001b[0m                            Traceback (most recent call last)",
            "\u001b[0;32m<ipython-input-11-804762040f8d>\u001b[0m in \u001b[0;36m<cell line: 2>\u001b[0;34m()\u001b[0m\n\u001b[1;32m      1\u001b[0m \u001b[0ms1\u001b[0m\u001b[0;34m=\u001b[0m\u001b[0;34m(\u001b[0m\u001b[0;36m1\u001b[0m\u001b[0;34m,\u001b[0m\u001b[0;36m2\u001b[0m\u001b[0;34m,\u001b[0m\u001b[0;36m3\u001b[0m\u001b[0;34m,\u001b[0m\u001b[0;36m4\u001b[0m\u001b[0;34m)\u001b[0m\u001b[0;34m\u001b[0m\u001b[0;34m\u001b[0m\u001b[0m\n\u001b[0;32m----> 2\u001b[0;31m \u001b[0ms1\u001b[0m\u001b[0;34m.\u001b[0m\u001b[0mclear\u001b[0m\u001b[0;34m(\u001b[0m\u001b[0;34m)\u001b[0m\u001b[0;34m\u001b[0m\u001b[0;34m\u001b[0m\u001b[0m\n\u001b[0m\u001b[1;32m      3\u001b[0m \u001b[0ms1\u001b[0m\u001b[0;34m\u001b[0m\u001b[0;34m\u001b[0m\u001b[0m\n",
            "\u001b[0;31mAttributeError\u001b[0m: 'tuple' object has no attribute 'clear'"
          ]
        }
      ],
      "source": [
        "s1=(1,2,3,4)\n",
        "s1.clear()\n",
        "s1\n"
      ]
    },
    {
      "cell_type": "code",
      "execution_count": null,
      "metadata": {
        "colab": {
          "base_uri": "https://localhost:8080/",
          "height": 200
        },
        "id": "YO5ghscyKeZ_",
        "outputId": "649836a0-fc52-4e43-d1f0-ca3f6b893b81"
      },
      "outputs": [
        {
          "ename": "NameError",
          "evalue": "ignored",
          "output_type": "error",
          "traceback": [
            "\u001b[0;31m---------------------------------------------------------------------------\u001b[0m",
            "\u001b[0;31mNameError\u001b[0m                                 Traceback (most recent call last)",
            "\u001b[0;32m<ipython-input-12-1897a1012c90>\u001b[0m in \u001b[0;36m<cell line: 3>\u001b[0;34m()\u001b[0m\n\u001b[1;32m      1\u001b[0m \u001b[0ms1\u001b[0m\u001b[0;34m=\u001b[0m\u001b[0;34m(\u001b[0m\u001b[0;36m1\u001b[0m\u001b[0;34m,\u001b[0m\u001b[0;36m2\u001b[0m\u001b[0;34m,\u001b[0m\u001b[0;36m3\u001b[0m\u001b[0;34m,\u001b[0m\u001b[0;36m4\u001b[0m\u001b[0;34m)\u001b[0m\u001b[0;34m\u001b[0m\u001b[0;34m\u001b[0m\u001b[0m\n\u001b[1;32m      2\u001b[0m \u001b[0;32mdel\u001b[0m \u001b[0ms1\u001b[0m\u001b[0;34m\u001b[0m\u001b[0;34m\u001b[0m\u001b[0m\n\u001b[0;32m----> 3\u001b[0;31m \u001b[0ms1\u001b[0m\u001b[0;34m\u001b[0m\u001b[0;34m\u001b[0m\u001b[0m\n\u001b[0m",
            "\u001b[0;31mNameError\u001b[0m: name 's1' is not defined"
          ]
        }
      ],
      "source": [
        "s1=(1,2,3,4)\n",
        "del s1\n",
        "s1\n",
        "#del works on tuple too but clear() doesnot work on tuple"
      ]
    },
    {
      "cell_type": "code",
      "execution_count": null,
      "metadata": {
        "colab": {
          "base_uri": "https://localhost:8080/"
        },
        "id": "uWt1N1zLKvdt",
        "outputId": "d0871784-4318-43c4-cd25-4d23c7480fda"
      },
      "outputs": [
        {
          "data": {
            "text/plain": [
              "{1, 2, 3, 4, 5, 6, 7, 8}"
            ]
          },
          "execution_count": 1,
          "metadata": {},
          "output_type": "execute_result"
        }
      ],
      "source": [
        "s1={1,2,3,4,5}\n",
        "s2={4,5,6,7,8}\n",
        "s1|s2\n",
        "#union combines both the sets such that every item appears only once"
      ]
    },
    {
      "cell_type": "code",
      "execution_count": null,
      "metadata": {
        "colab": {
          "base_uri": "https://localhost:8080/"
        },
        "id": "wyHHE53btCiw",
        "outputId": "c3cb7c5b-ae96-4625-f75d-01e0ab9f9b9f"
      },
      "outputs": [
        {
          "data": {
            "text/plain": [
              "{4, 5}"
            ]
          },
          "execution_count": 4,
          "metadata": {},
          "output_type": "execute_result"
        }
      ],
      "source": [
        "s1={1,2,3,4,5}\n",
        "s2={4,5,6,7,8}\n",
        "s1 & s2\n",
        "#intersection operation\n",
        "#prints out common items"
      ]
    },
    {
      "cell_type": "code",
      "execution_count": null,
      "metadata": {
        "colab": {
          "base_uri": "https://localhost:8080/"
        },
        "id": "kXc55P31vROw",
        "outputId": "2ffd3306-b1b2-49f2-828d-baeb9b628706"
      },
      "outputs": [
        {
          "data": {
            "text/plain": [
              "{1, 2, 3}"
            ]
          },
          "execution_count": 5,
          "metadata": {},
          "output_type": "execute_result"
        }
      ],
      "source": [
        "s1={1,2,3,4,5}\n",
        "s2={4,5,6,7,8}\n",
        "s1-s2\n",
        "#difference operation\n",
        "#items of s1 which are not present in s2"
      ]
    },
    {
      "cell_type": "code",
      "execution_count": null,
      "metadata": {
        "colab": {
          "base_uri": "https://localhost:8080/"
        },
        "id": "1q29aNb3zfJf",
        "outputId": "9b70e312-1326-47e0-a091-3c6dd62580e9"
      },
      "outputs": [
        {
          "data": {
            "text/plain": [
              "{1, 2, 3, 6, 7, 8}"
            ]
          },
          "execution_count": 6,
          "metadata": {},
          "output_type": "execute_result"
        }
      ],
      "source": [
        "s1={1,2,3,4,5}\n",
        "s2={4,5,6,7,8}\n",
        "s1^s2\n",
        "#unique items of each set, except the common\n",
        "#symmetric difference operation"
      ]
    },
    {
      "cell_type": "code",
      "execution_count": null,
      "metadata": {
        "colab": {
          "base_uri": "https://localhost:8080/"
        },
        "id": "DcziYXKq_e7T",
        "outputId": "84059df6-f29b-404e-d02f-45e38bd0a734"
      },
      "outputs": [
        {
          "data": {
            "text/plain": [
              "6"
            ]
          },
          "execution_count": 7,
          "metadata": {},
          "output_type": "execute_result"
        }
      ],
      "source": [
        "s={3,1,4,5,2,7}\n",
        "len(s)"
      ]
    },
    {
      "cell_type": "code",
      "execution_count": null,
      "metadata": {
        "colab": {
          "base_uri": "https://localhost:8080/"
        },
        "id": "THN1Nqk5AOzo",
        "outputId": "2eb0d4b4-6c5a-4a9e-c445-a7964c5de644"
      },
      "outputs": [
        {
          "data": {
            "text/plain": [
              "22"
            ]
          },
          "execution_count": 8,
          "metadata": {},
          "output_type": "execute_result"
        }
      ],
      "source": [
        "sum(s)"
      ]
    },
    {
      "cell_type": "code",
      "execution_count": null,
      "metadata": {
        "colab": {
          "base_uri": "https://localhost:8080/"
        },
        "id": "tuqv2MrpAR8B",
        "outputId": "611660f2-2b61-409d-946a-25746cd2faf2"
      },
      "outputs": [
        {
          "data": {
            "text/plain": [
              "1"
            ]
          },
          "execution_count": 9,
          "metadata": {},
          "output_type": "execute_result"
        }
      ],
      "source": [
        "min(s)"
      ]
    },
    {
      "cell_type": "code",
      "execution_count": null,
      "metadata": {
        "colab": {
          "base_uri": "https://localhost:8080/"
        },
        "id": "54w71WBBAUCH",
        "outputId": "03ba89a0-1b7f-4f0b-9524-e0d21dff125c"
      },
      "outputs": [
        {
          "data": {
            "text/plain": [
              "7"
            ]
          },
          "execution_count": 10,
          "metadata": {},
          "output_type": "execute_result"
        }
      ],
      "source": [
        "max(s)"
      ]
    },
    {
      "cell_type": "code",
      "execution_count": null,
      "metadata": {
        "colab": {
          "base_uri": "https://localhost:8080/"
        },
        "id": "a5aawqVxAXGW",
        "outputId": "ef9aa941-8f48-4f60-cedd-99865a51aff4"
      },
      "outputs": [
        {
          "data": {
            "text/plain": [
              "[1, 2, 3, 4, 5, 7]"
            ]
          },
          "execution_count": 11,
          "metadata": {},
          "output_type": "execute_result"
        }
      ],
      "source": [
        "sorted(s)\n",
        "#the sorted items are placed in ascending order"
      ]
    },
    {
      "cell_type": "code",
      "execution_count": null,
      "metadata": {
        "colab": {
          "base_uri": "https://localhost:8080/"
        },
        "id": "bzKl7uOqAgQY",
        "outputId": "f3bf3907-2909-4bc8-eb04-c56b6fb79e63"
      },
      "outputs": [
        {
          "data": {
            "text/plain": [
              "{1, 2, 3, 4, 5, 6, 7, 8}"
            ]
          },
          "execution_count": 12,
          "metadata": {},
          "output_type": "execute_result"
        }
      ],
      "source": [
        "#union/update\n",
        "s1={1,2,3,4,5}\n",
        "s2={4,5,6,7,8}\n",
        "s1.union(s2)"
      ]
    },
    {
      "cell_type": "code",
      "execution_count": null,
      "metadata": {
        "colab": {
          "base_uri": "https://localhost:8080/"
        },
        "id": "aNgGitUXB2c_",
        "outputId": "d7e09c63-9aa6-479e-c0ef-7ddb4e0b5e06"
      },
      "outputs": [
        {
          "name": "stdout",
          "output_type": "stream",
          "text": [
            "{1, 2, 3, 4, 5, 6, 7, 8}\n",
            "{4, 5, 6, 7, 8}\n"
          ]
        }
      ],
      "source": [
        "s1.update(s2)\n",
        "print(s1)\n",
        "print(s2)"
      ]
    },
    {
      "cell_type": "code",
      "execution_count": null,
      "metadata": {
        "colab": {
          "base_uri": "https://localhost:8080/"
        },
        "id": "1nnEycZBCG_k",
        "outputId": "fadbbc50-c71a-41bc-c4c7-cc6ffee197ee"
      },
      "outputs": [
        {
          "data": {
            "text/plain": [
              "{4, 5}"
            ]
          },
          "execution_count": 14,
          "metadata": {},
          "output_type": "execute_result"
        }
      ],
      "source": [
        "s1={1,2,3,4,5}\n",
        "s2={4,5,6,7,8}\n",
        "s1.intersection(s2)"
      ]
    },
    {
      "cell_type": "code",
      "execution_count": null,
      "metadata": {
        "colab": {
          "base_uri": "https://localhost:8080/"
        },
        "id": "59SYgFmgDL7Y",
        "outputId": "0cd07ae0-d0d6-4b2e-c79b-6e941d32ae91"
      },
      "outputs": [
        {
          "name": "stdout",
          "output_type": "stream",
          "text": [
            "{4, 5}\n",
            "{4, 5, 6, 7, 8}\n"
          ]
        }
      ],
      "source": [
        "s1.intersection_update(s2)\n",
        "print(s1)\n",
        "print(s2)\n",
        "#s1 is updated to include only the intersectional elements"
      ]
    },
    {
      "cell_type": "code",
      "execution_count": null,
      "metadata": {
        "colab": {
          "base_uri": "https://localhost:8080/"
        },
        "id": "6P4yQAvwDtrP",
        "outputId": "aa9b8a68-96c9-4d81-ebc8-308f742d60d5"
      },
      "outputs": [
        {
          "data": {
            "text/plain": [
              "{1, 2, 3, 6, 7, 8}"
            ]
          },
          "execution_count": 2,
          "metadata": {},
          "output_type": "execute_result"
        }
      ],
      "source": [
        "s1={1,2,3,4,5}\n",
        "s2={4,5,6,7,8}\n",
        "s1.symmetric_difference(s2)"
      ]
    },
    {
      "cell_type": "code",
      "execution_count": null,
      "metadata": {
        "colab": {
          "base_uri": "https://localhost:8080/"
        },
        "id": "BoTAWRC_TIKv",
        "outputId": "e392d919-8397-45ac-dcf8-ebad657ba451"
      },
      "outputs": [
        {
          "name": "stdout",
          "output_type": "stream",
          "text": [
            "{1, 2, 3, 6, 7, 8}\n",
            "{4, 5, 6, 7, 8}\n"
          ]
        }
      ],
      "source": [
        "s1.symmetric_difference_update(s2)\n",
        "print(s1)\n",
        "print(s2)\n",
        "#s1 is updated with symmetric_difference_update"
      ]
    },
    {
      "cell_type": "code",
      "execution_count": null,
      "metadata": {
        "colab": {
          "base_uri": "https://localhost:8080/"
        },
        "id": "a9Wo7IfAoFV6",
        "outputId": "780256c9-9866-455c-8767-4c149d533e95"
      },
      "outputs": [
        {
          "data": {
            "text/plain": [
              "False"
            ]
          },
          "execution_count": 4,
          "metadata": {},
          "output_type": "execute_result"
        }
      ],
      "source": [
        "s1={1,2,3,4,5}\n",
        "s2={4,5,6,7,8}\n",
        "s1.isdisjoint(s2)\n",
        "#This prints out False because 4 and 5 are present in both s1 and s2"
      ]
    },
    {
      "cell_type": "code",
      "execution_count": null,
      "metadata": {
        "colab": {
          "base_uri": "https://localhost:8080/"
        },
        "id": "s79W547noaTO",
        "outputId": "4f714d14-958c-4150-fa09-e7c7d31d6e45"
      },
      "outputs": [
        {
          "data": {
            "text/plain": [
              "True"
            ]
          },
          "execution_count": 5,
          "metadata": {},
          "output_type": "execute_result"
        }
      ],
      "source": [
        "s1={1,2,3,4,5}\n",
        "s2={6,7,8,9,11}\n",
        "s1.isdisjoint(s2)\n",
        "#This prints out True as s1 and s2 are actually disjoint"
      ]
    },
    {
      "cell_type": "code",
      "execution_count": null,
      "metadata": {
        "colab": {
          "base_uri": "https://localhost:8080/"
        },
        "id": "6Zc2YrYtowCy",
        "outputId": "5307b635-8837-4893-da9a-5f5138d61d8e"
      },
      "outputs": [
        {
          "data": {
            "text/plain": [
              "True"
            ]
          },
          "execution_count": 6,
          "metadata": {},
          "output_type": "execute_result"
        }
      ],
      "source": [
        "s1={1,2,3,4,5}\n",
        "s2={3,4,5}\n",
        "s2.issubset(s1)\n",
        "#Prints out True as s2 is subset of s1, s2 contains {3,4,5} which is contained in s1"
      ]
    },
    {
      "cell_type": "code",
      "execution_count": null,
      "metadata": {
        "colab": {
          "base_uri": "https://localhost:8080/"
        },
        "id": "EsOhhFKrpPjg",
        "outputId": "317b702a-2701-4195-e5b9-5e6ee44eebeb"
      },
      "outputs": [
        {
          "data": {
            "text/plain": [
              "False"
            ]
          },
          "execution_count": 7,
          "metadata": {},
          "output_type": "execute_result"
        }
      ],
      "source": [
        "s1.issubset(s2)"
      ]
    },
    {
      "cell_type": "code",
      "execution_count": null,
      "metadata": {
        "colab": {
          "base_uri": "https://localhost:8080/"
        },
        "id": "IGZQSpgkpWtj",
        "outputId": "e5c04a89-6366-42b2-aed0-f0cb5fde6dd8"
      },
      "outputs": [
        {
          "data": {
            "text/plain": [
              "True"
            ]
          },
          "execution_count": 8,
          "metadata": {},
          "output_type": "execute_result"
        }
      ],
      "source": [
        "s1.issuperset(s2)\n",
        "#True gets printed as s1 is actually superset of s2 as s1 contains all elements of s2 and more"
      ]
    },
    {
      "cell_type": "code",
      "execution_count": null,
      "metadata": {
        "colab": {
          "base_uri": "https://localhost:8080/"
        },
        "id": "4xtf3O3Epzhm",
        "outputId": "05b14410-1497-4b15-9d48-fe99bac403e3"
      },
      "outputs": [
        {
          "name": "stdout",
          "output_type": "stream",
          "text": [
            "{1, 2, 3}\n",
            "{1, 2, 3}\n"
          ]
        }
      ],
      "source": [
        "s1={1,2,3}\n",
        "s2=s1.copy()\n",
        "print(s1)\n",
        "print(s2)\n",
        "#set is unordered, list and tuple are ordered\n",
        "#set cannot contain duplicates, list and tuples can\n",
        "#set and lists are mutable tuples are immutable\n",
        "#all items of sets has to be mutable (int,float,tuples)\n",
        "#In the case of above s1 and s2 are stored in two seperate memory locations"
      ]
    },
    {
      "cell_type": "code",
      "execution_count": null,
      "metadata": {
        "colab": {
          "base_uri": "https://localhost:8080/"
        },
        "id": "wQbB_Epzqqy-",
        "outputId": "d0b931c1-9064-40bb-d2b4-41b24b41a7cc"
      },
      "outputs": [
        {
          "name": "stdout",
          "output_type": "stream",
          "text": [
            "{1, 2, 3, 5}\n",
            "{1, 2, 3, 5}\n"
          ]
        }
      ],
      "source": [
        "s1={1,2,3}\n",
        "s2=s1\n",
        "s1.add(5)\n",
        "print(s1)\n",
        "print(s2)"
      ]
    },
    {
      "cell_type": "code",
      "execution_count": null,
      "metadata": {
        "colab": {
          "base_uri": "https://localhost:8080/"
        },
        "id": "udnZQROzwGDh",
        "outputId": "f7044be1-f983-408f-c72d-ba9ebb79f422"
      },
      "outputs": [
        {
          "name": "stdout",
          "output_type": "stream",
          "text": [
            "(1, 2, 3, 4)\n",
            "(1, 2, 3)\n"
          ]
        }
      ],
      "source": [
        "s1=(1,2,3)\n",
        "s2=s1\n",
        "s1=s1+(4,)\n",
        "print(s1)\n",
        "print(s2)"
      ]
    },
    {
      "cell_type": "code",
      "execution_count": null,
      "metadata": {
        "colab": {
          "base_uri": "https://localhost:8080/"
        },
        "id": "0kicpiBdwPsM",
        "outputId": "c1aab875-d422-495b-c76a-751e4b60916d"
      },
      "outputs": [
        {
          "data": {
            "text/plain": [
              "frozenset({1, 2, 3})"
            ]
          },
          "execution_count": 13,
          "metadata": {},
          "output_type": "execute_result"
        }
      ],
      "source": [
        "#frozen set is just an immutable version of python set object\n",
        "fs=frozenset([1,2,3])\n",
        "fs\n",
        "#immutable means new items cannot be added and old items cannot be deleted"
      ]
    },
    {
      "cell_type": "code",
      "execution_count": null,
      "metadata": {
        "colab": {
          "base_uri": "https://localhost:8080/"
        },
        "id": "fcMlGv1ry6xo",
        "outputId": "68375b57-3096-437d-c497-405231b82834"
      },
      "outputs": [
        {
          "data": {
            "text/plain": [
              "frozenset({1, 2, 3, 4, 5})"
            ]
          },
          "execution_count": 14,
          "metadata": {},
          "output_type": "execute_result"
        }
      ],
      "source": [
        "fs1=frozenset([1,2,3])\n",
        "fs2=frozenset([3,4,5])\n",
        "fs1 | fs2"
      ]
    },
    {
      "cell_type": "code",
      "execution_count": null,
      "metadata": {
        "colab": {
          "base_uri": "https://localhost:8080/"
        },
        "id": "Q2agfln4zyiy",
        "outputId": "a3ae782c-21f3-44c3-cff6-df1f5ad055c3"
      },
      "outputs": [
        {
          "data": {
            "text/plain": [
              "frozenset({3})"
            ]
          },
          "execution_count": 15,
          "metadata": {},
          "output_type": "execute_result"
        }
      ],
      "source": [
        "fs1 & fs2"
      ]
    },
    {
      "cell_type": "code",
      "execution_count": null,
      "metadata": {
        "colab": {
          "base_uri": "https://localhost:8080/"
        },
        "id": "etTR9HURz4tc",
        "outputId": "4648b2c5-2bbd-40d7-cd21-60d6f9d0cda1"
      },
      "outputs": [
        {
          "data": {
            "text/plain": [
              "frozenset({1, 2, 4, 5})"
            ]
          },
          "execution_count": 16,
          "metadata": {},
          "output_type": "execute_result"
        }
      ],
      "source": [
        "fs1 ^ fs2"
      ]
    },
    {
      "cell_type": "code",
      "execution_count": null,
      "metadata": {
        "id": "d_D5oF0u20sD"
      },
      "outputs": [],
      "source": [
        "#union, intersection, difference and symmetric difference will work on frozenset as well\n",
        "#all read operations work on frozen sets but not write operations, all the above operations are read operations"
      ]
    },
    {
      "cell_type": "code",
      "execution_count": null,
      "metadata": {
        "colab": {
          "base_uri": "https://localhost:8080/"
        },
        "id": "un0oN8Xw3AgN",
        "outputId": "ebf0b530-c753-481a-df29-8a71b967ddd4"
      },
      "outputs": [
        {
          "data": {
            "text/plain": [
              "frozenset({1, 2, frozenset({3, 4, 5})})"
            ]
          },
          "execution_count": 17,
          "metadata": {},
          "output_type": "execute_result"
        }
      ],
      "source": [
        "#2D frozen set is possible as frozen sets themselves are immutables and set can only contain immutables\n",
        "fs1=frozenset([1,2,frozenset([3,4,5])])\n",
        "fs1"
      ]
    },
    {
      "cell_type": "code",
      "execution_count": null,
      "metadata": {
        "colab": {
          "base_uri": "https://localhost:8080/"
        },
        "id": "OokKB3Is9ypL",
        "outputId": "fb0dca4f-e004-4bc0-b724-dc39ebaa7955"
      },
      "outputs": [
        {
          "data": {
            "text/plain": [
              "{1, 2, 3, 4, 5, 6, 7, 8, 9, 10}"
            ]
          },
          "execution_count": 18,
          "metadata": {},
          "output_type": "execute_result"
        }
      ],
      "source": [
        "{i for i in range(1,11)}"
      ]
    },
    {
      "cell_type": "code",
      "execution_count": null,
      "metadata": {
        "colab": {
          "base_uri": "https://localhost:8080/"
        },
        "id": "1LFuoSsc_cam",
        "outputId": "cc8f1152-d095-40dc-9810-47775eafb59f"
      },
      "outputs": [
        {
          "data": {
            "text/plain": [
              "{6, 7, 8, 9, 10}"
            ]
          },
          "execution_count": 19,
          "metadata": {},
          "output_type": "execute_result"
        }
      ],
      "source": [
        "{i for i in range(1,11) if i>5}"
      ]
    },
    {
      "cell_type": "code",
      "execution_count": null,
      "metadata": {
        "colab": {
          "base_uri": "https://localhost:8080/"
        },
        "id": "hXvL7Lxo_hXo",
        "outputId": "b67ef2f3-bed7-41a8-a8a4-d985a0aee046"
      },
      "outputs": [
        {
          "data": {
            "text/plain": [
              "{36, 49, 64, 81, 100}"
            ]
          },
          "execution_count": 20,
          "metadata": {},
          "output_type": "execute_result"
        }
      ],
      "source": [
        "{i**2 for i in range(1,11) if i>5}"
      ]
    },
    {
      "cell_type": "code",
      "execution_count": null,
      "metadata": {
        "id": "iur7JeQC_nn-"
      },
      "outputs": [],
      "source": [
        "#Dictionary is a python collection of keys values used to store data values like map which unlike other datatypes which stores only a single value as ana element\n",
        "#dictionaries are mutable\n",
        "#indexing has no meaning\n",
        "#keys can't be duplicated\n",
        "#keys can't be mutable items\n",
        "#In python, keys must be immutable because of how dictionaries are implemented using hash tables data structures. The requirement for immutable keys is fundamental to ensure stability\n",
        "#and predictability of dictionary operations.\n",
        "#Dictionary in python uses a hash table to store a key-value pair efficiently. Hash table works by calculating the hash value of each key and using this hash value as an index to store and\n",
        "#retrieve the corresponding index values. The hash value determines the location(bucket) in the hash table where the key-value pair is stored. By using the same hash values consistently , Python can\n",
        "#locate keys consistently and perform operations like retrieval in constant time O(1)\n",
        "#In dictionary each key must be unique. If you attempt to add a key that already exists in the dictionary, the new value will overwrite the old one. To ensure uniqueness, Python relies on the\n",
        "#assumption that the hash value of a given key remains constant throughout its lifetime. If a key were mutable and its value changed, the hash value would change as well, leading to inconsistencies\n",
        "#in the dictionary's internal structure.\n",
        "#If the keys were mutable, and their values could change, the dictionary's behaviour would be unpredicatable. By enforcing immutability on keys, Python ensures that once a key-value pair is added to the dictionary\n",
        "#the key cannot change, preserving the integrity of the mapping.\n",
        "#Example of immutable keys in dictionaries include integers,strings,floats, tuples . These datatypes have fixed hash values, making them suitable for use as keys in dictionaries.\n",
        "#lists,dictionaries and sets cannot be used as keys in the dictionary. These datatypes can change contents after being used as keys.\n",
        "#"
      ]
    },
    {
      "cell_type": "code",
      "execution_count": null,
      "metadata": {
        "colab": {
          "base_uri": "https://localhost:8080/"
        },
        "id": "ScH4wEClNlcr",
        "outputId": "78c78b8c-6484-4e9b-c6c0-09347d785d43"
      },
      "outputs": [
        {
          "data": {
            "text/plain": [
              "{}"
            ]
          },
          "execution_count": 21,
          "metadata": {},
          "output_type": "execute_result"
        }
      ],
      "source": [
        "#empty dictionary\n",
        "d={}\n",
        "d"
      ]
    },
    {
      "cell_type": "code",
      "execution_count": null,
      "metadata": {
        "colab": {
          "base_uri": "https://localhost:8080/"
        },
        "id": "0gbMNbwzNqpc",
        "outputId": "abaca25f-7439-4317-b96b-94e8c9a318e5"
      },
      "outputs": [
        {
          "data": {
            "text/plain": [
              "{'name': 'shamin', 'age': 33, 'gender': 'male'}"
            ]
          },
          "execution_count": 22,
          "metadata": {},
          "output_type": "execute_result"
        }
      ],
      "source": [
        "#1D dictionary\n",
        "d1={'name':\"shamin\",\"age\":33,\"gender\":\"male\"}\n",
        "d1"
      ]
    },
    {
      "cell_type": "code",
      "execution_count": null,
      "metadata": {
        "colab": {
          "base_uri": "https://localhost:8080/"
        },
        "id": "jE_lqoCHOD5K",
        "outputId": "8111704a-c762-449a-f138-589186464b88"
      },
      "outputs": [
        {
          "data": {
            "text/plain": [
              "{(1, 2, 3): 'dungeon', 'name': 'dhindora'}"
            ]
          },
          "execution_count": 23,
          "metadata": {},
          "output_type": "execute_result"
        }
      ],
      "source": [
        "#with mixed keys\n",
        "d2={(1,2,3):\"dungeon\",\"name\":\"dhindora\"}\n",
        "d2"
      ]
    },
    {
      "cell_type": "code",
      "execution_count": null,
      "metadata": {
        "colab": {
          "base_uri": "https://localhost:8080/"
        },
        "id": "MLKaa3isOhGk",
        "outputId": "0ee7aa46-1442-4124-e74c-9b99a229bff6"
      },
      "outputs": [
        {
          "data": {
            "text/plain": [
              "{'name': 'lambouh',\n",
              " 'college': 'cid',\n",
              " 'sem': 4,\n",
              " 'subject': {'dsa': 50, 'maths': 47, 'english': 99}}"
            ]
          },
          "execution_count": 24,
          "metadata": {},
          "output_type": "execute_result"
        }
      ],
      "source": [
        "#2D dictionary\n",
        "s={\"name\":\"lambouh\",\n",
        "   \"college\":\"cid\",\n",
        "   \"sem\":4,\n",
        "   \"subject\":{\n",
        "      \"dsa\":50,\n",
        "      \"maths\":47,\n",
        "      \"english\":99\n",
        "   }}\n",
        "s"
      ]
    },
    {
      "cell_type": "code",
      "execution_count": null,
      "metadata": {
        "colab": {
          "base_uri": "https://localhost:8080/"
        },
        "id": "1pQ5nOkcQCkO",
        "outputId": "925b7881-a27a-4bb2-ec88-aadbb7e5ffa0"
      },
      "outputs": [
        {
          "data": {
            "text/plain": [
              "{1: 1, 2: 2, 3: 3, 4: 4}"
            ]
          },
          "execution_count": 1,
          "metadata": {},
          "output_type": "execute_result"
        }
      ],
      "source": [
        "#using sequence and dict function\n",
        "d4=dict([(1,1),(2,2),(3,3),(4,4)])\n",
        "d4"
      ]
    },
    {
      "cell_type": "code",
      "execution_count": null,
      "metadata": {
        "colab": {
          "base_uri": "https://localhost:8080/"
        },
        "id": "4zmy62KP3SEj",
        "outputId": "cca3d547-1cde-44b5-95ef-4a6c8784096a"
      },
      "outputs": [
        {
          "data": {
            "text/plain": [
              "{'name': 'rohendra'}"
            ]
          },
          "execution_count": 2,
          "metadata": {},
          "output_type": "execute_result"
        }
      ],
      "source": [
        "d5={'name':'nitish','name':'rohendra'}\n",
        "d5"
      ]
    },
    {
      "cell_type": "code",
      "execution_count": null,
      "metadata": {
        "colab": {
          "base_uri": "https://localhost:8080/",
          "height": 36
        },
        "id": "OPF8kEHnA7wB",
        "outputId": "2a2a1e3c-8652-4a80-8e03-ebf805dc706e"
      },
      "outputs": [
        {
          "data": {
            "application/vnd.google.colaboratory.intrinsic+json": {
              "type": "string"
            },
            "text/plain": [
              "'niteshwar'"
            ]
          },
          "execution_count": 3,
          "metadata": {},
          "output_type": "execute_result"
        }
      ],
      "source": [
        "d6={'name':'niteshwar','age':26}\n",
        "d6['name']"
      ]
    },
    {
      "cell_type": "code",
      "execution_count": null,
      "metadata": {
        "colab": {
          "base_uri": "https://localhost:8080/",
          "height": 36
        },
        "id": "OB2RZt1wOUfL",
        "outputId": "b15afcfc-7b1b-40be-954a-9c9796ab2d11"
      },
      "outputs": [
        {
          "data": {
            "application/vnd.google.colaboratory.intrinsic+json": {
              "type": "string"
            },
            "text/plain": [
              "'niteshwar'"
            ]
          },
          "execution_count": 4,
          "metadata": {},
          "output_type": "execute_result"
        }
      ],
      "source": [
        "d6.get('name')"
      ]
    },
    {
      "cell_type": "code",
      "execution_count": null,
      "metadata": {
        "colab": {
          "base_uri": "https://localhost:8080/",
          "height": 182
        },
        "id": "hzupkHaOOlQU",
        "outputId": "f2544951-19ff-4b49-dfcc-9f0de826b6cf"
      },
      "outputs": [
        {
          "ename": "NameError",
          "evalue": "ignored",
          "output_type": "error",
          "traceback": [
            "\u001b[0;31m---------------------------------------------------------------------------\u001b[0m",
            "\u001b[0;31mNameError\u001b[0m                                 Traceback (most recent call last)",
            "\u001b[0;32m<ipython-input-7-b4dec5f9ca90>\u001b[0m in \u001b[0;36m<cell line: 2>\u001b[0;34m()\u001b[0m\n\u001b[1;32m      1\u001b[0m \u001b[0mf\u001b[0m\u001b[0;34m=\u001b[0m\u001b[0;34m\"ssttrrffgghh\"\u001b[0m\u001b[0;34m\u001b[0m\u001b[0;34m\u001b[0m\u001b[0m\n\u001b[0;32m----> 2\u001b[0;31m \u001b[0mcounter\u001b[0m\u001b[0;34m(\u001b[0m\u001b[0mf\u001b[0m\u001b[0;34m)\u001b[0m\u001b[0;34m\u001b[0m\u001b[0;34m\u001b[0m\u001b[0m\n\u001b[0m",
            "\u001b[0;31mNameError\u001b[0m: name 'counter' is not defined"
          ]
        }
      ],
      "source": [
        "f=\"ssttrrffgghh\"\n"
      ]
    },
    {
      "cell_type": "code",
      "execution_count": null,
      "metadata": {
        "colab": {
          "base_uri": "https://localhost:8080/"
        },
        "id": "8X4pDOW6QfAi",
        "outputId": "f19c8669-7b6d-4d03-f4c3-d210a577a19d"
      },
      "outputs": [
        {
          "name": "stdout",
          "output_type": "stream",
          "text": [
            "{'name': 'nitish', 'age': 9, 'gender': 'male', 'weight': 72}\n"
          ]
        }
      ],
      "source": [
        "d9={'name':'nitish','age':9,3:3,'gender':'male','weight':72}\n",
        "d9.pop(3)\n",
        "print(d9)"
      ]
    },
    {
      "cell_type": "code",
      "execution_count": null,
      "metadata": {
        "colab": {
          "base_uri": "https://localhost:8080/"
        },
        "id": "pmu5b7yRVQad",
        "outputId": "b8b29812-e8c2-4fbf-bcd5-157b67123a45"
      },
      "outputs": [
        {
          "data": {
            "text/plain": [
              "{'name': 'nitish', 'age': 9, 'gender': 'male'}"
            ]
          },
          "execution_count": 9,
          "metadata": {},
          "output_type": "execute_result"
        }
      ],
      "source": [
        "d9.popitem()\n",
        "d9"
      ]
    },
    {
      "cell_type": "code",
      "execution_count": null,
      "metadata": {
        "colab": {
          "base_uri": "https://localhost:8080/"
        },
        "id": "24iYbmksVfT9",
        "outputId": "b40f2009-da7e-4af4-afba-29da878ab473"
      },
      "outputs": [
        {
          "data": {
            "text/plain": [
              "{'name': 'nitish', 'age': 9}"
            ]
          },
          "execution_count": 10,
          "metadata": {},
          "output_type": "execute_result"
        }
      ],
      "source": [
        "d9.popitem()\n",
        "d9\n",
        "#removes the last key-value pair"
      ]
    },
    {
      "cell_type": "code",
      "execution_count": null,
      "metadata": {
        "id": "5H6O3tNcVmyc"
      },
      "outputs": [],
      "source": [
        "del d9['name']"
      ]
    },
    {
      "cell_type": "code",
      "execution_count": null,
      "metadata": {
        "colab": {
          "base_uri": "https://localhost:8080/"
        },
        "id": "_btWfq6llHM2",
        "outputId": "e88439c7-3eb4-46de-9a90-bbbabd29e74b"
      },
      "outputs": [
        {
          "data": {
            "text/plain": [
              "{'age': 9, 'gender': 'male', 'weight': 72}"
            ]
          },
          "execution_count": 13,
          "metadata": {},
          "output_type": "execute_result"
        }
      ],
      "source": [
        "d9"
      ]
    },
    {
      "cell_type": "code",
      "execution_count": null,
      "metadata": {
        "colab": {
          "base_uri": "https://localhost:8080/"
        },
        "id": "2Sr0U4aLlnNu",
        "outputId": "a3e5d7c8-4a26-474a-b311-f63fa1fd9c90"
      },
      "outputs": [
        {
          "data": {
            "text/plain": [
              "{}"
            ]
          },
          "execution_count": 14,
          "metadata": {},
          "output_type": "execute_result"
        }
      ],
      "source": [
        "d9.clear()\n",
        "d9"
      ]
    },
    {
      "cell_type": "code",
      "execution_count": null,
      "metadata": {
        "id": "Bg-Jhj0fqROZ"
      },
      "outputs": [],
      "source": [
        "d10={'name':'dhwani',\n",
        "     'age':19,\n",
        "     'sem':4,\n",
        "     'branch':'electrical',\n",
        "     'subject':{'math':67,\n",
        "                'englisho':91,\n",
        "                'GS':80}}\n"
      ]
    },
    {
      "cell_type": "code",
      "execution_count": null,
      "metadata": {
        "colab": {
          "base_uri": "https://localhost:8080/"
        },
        "id": "uNp0DKM7qwOe",
        "outputId": "10efd93a-d571-4619-ec5c-d8cc61419245"
      },
      "outputs": [
        {
          "data": {
            "text/plain": [
              "67"
            ]
          },
          "execution_count": 16,
          "metadata": {},
          "output_type": "execute_result"
        }
      ],
      "source": [
        "d10['subject']['math']"
      ]
    },
    {
      "cell_type": "code",
      "execution_count": null,
      "metadata": {
        "colab": {
          "base_uri": "https://localhost:8080/"
        },
        "id": "NpF-dzqYq2Bw",
        "outputId": "8f29f3e4-e0ed-4de8-ac8f-324c2effa46c"
      },
      "outputs": [
        {
          "data": {
            "text/plain": [
              "{'name': 'dhwani',\n",
              " 'age': 19,\n",
              " 'sem': 4,\n",
              " 'branch': 'electrical',\n",
              " 'subject': {'englisho': 91, 'GS': 80}}"
            ]
          },
          "execution_count": 17,
          "metadata": {},
          "output_type": "execute_result"
        }
      ],
      "source": [
        "del d10['subject']['math']\n",
        "d10"
      ]
    },
    {
      "cell_type": "code",
      "execution_count": null,
      "metadata": {
        "colab": {
          "base_uri": "https://localhost:8080/"
        },
        "id": "jN7mieauzHDv",
        "outputId": "49bf1b25-d140-468b-a975-694208f36688"
      },
      "outputs": [
        {
          "data": {
            "text/plain": [
              "{'name': 'dhwani',\n",
              " 'age': 19,\n",
              " 'sem': 4,\n",
              " 'branch': 'electrical',\n",
              " 'subject': {'englisho': 91, 'GS': 82}}"
            ]
          },
          "execution_count": 18,
          "metadata": {},
          "output_type": "execute_result"
        }
      ],
      "source": [
        "d10['subject']['GS']=82\n",
        "d10"
      ]
    },
    {
      "cell_type": "code",
      "execution_count": null,
      "metadata": {
        "colab": {
          "base_uri": "https://localhost:8080/"
        },
        "id": "Us2xWJBi0gWi",
        "outputId": "b1ff5602-ae08-449f-97ca-71067b72905d"
      },
      "outputs": [
        {
          "data": {
            "text/plain": [
              "False"
            ]
          },
          "execution_count": 19,
          "metadata": {},
          "output_type": "execute_result"
        }
      ],
      "source": [
        "'dhwani' in d10\n",
        "#This is false because in dictionaries only keys are searched and as 'dhwani' is not there amongst the keys so False is returned"
      ]
    },
    {
      "cell_type": "code",
      "execution_count": null,
      "metadata": {
        "colab": {
          "base_uri": "https://localhost:8080/"
        },
        "id": "V_9Sa97O1qYa",
        "outputId": "ae2850be-f94d-4e00-9b4e-fd7cca109e85"
      },
      "outputs": [
        {
          "data": {
            "text/plain": [
              "True"
            ]
          },
          "execution_count": 20,
          "metadata": {},
          "output_type": "execute_result"
        }
      ],
      "source": [
        "'name' in d10\n",
        "#"
      ]
    },
    {
      "cell_type": "code",
      "execution_count": null,
      "metadata": {
        "colab": {
          "base_uri": "https://localhost:8080/"
        },
        "id": "41SNSVbc5llh",
        "outputId": "6695ab25-d0ce-4ce7-938c-a73c27dc566f"
      },
      "outputs": [
        {
          "name": "stdout",
          "output_type": "stream",
          "text": [
            "name\n",
            "age\n",
            "gender\n"
          ]
        }
      ],
      "source": [
        "d={'name':'dharam','age':23,'gender':'male'}\n",
        "for i in d:\n",
        "  print(i)"
      ]
    },
    {
      "cell_type": "code",
      "execution_count": null,
      "metadata": {
        "colab": {
          "base_uri": "https://localhost:8080/"
        },
        "id": "W9WDo81m52Rd",
        "outputId": "63f90e2a-c1f3-45ed-b236-2beaa4277544"
      },
      "outputs": [
        {
          "name": "stdout",
          "output_type": "stream",
          "text": [
            "dharam\n",
            "23\n",
            "male\n"
          ]
        }
      ],
      "source": [
        "for i in d:\n",
        "  print(d[i])"
      ]
    },
    {
      "cell_type": "code",
      "execution_count": null,
      "metadata": {
        "colab": {
          "base_uri": "https://localhost:8080/"
        },
        "id": "qZrDk6wF-810",
        "outputId": "f1a9d432-10f1-4392-8e61-26183fac6cb3"
      },
      "outputs": [
        {
          "name": "stdout",
          "output_type": "stream",
          "text": [
            "name dharam\n",
            "age 23\n",
            "gender male\n"
          ]
        }
      ],
      "source": [
        "for i in d:\n",
        "  print(i,d[i])"
      ]
    },
    {
      "cell_type": "code",
      "execution_count": null,
      "metadata": {
        "colab": {
          "base_uri": "https://localhost:8080/"
        },
        "id": "XDXDXMnh_B4k",
        "outputId": "3f4f11b3-08b3-4880-b032-451dd6c5df46"
      },
      "outputs": [
        {
          "data": {
            "text/plain": [
              "3"
            ]
          },
          "execution_count": 24,
          "metadata": {},
          "output_type": "execute_result"
        }
      ],
      "source": [
        "len(d)"
      ]
    },
    {
      "cell_type": "code",
      "execution_count": null,
      "metadata": {
        "colab": {
          "base_uri": "https://localhost:8080/"
        },
        "id": "IUD-YXgoAETY",
        "outputId": "abaf01a1-9f49-45b8-950a-f9cd548040a3"
      },
      "outputs": [
        {
          "data": {
            "text/plain": [
              "['age', 'gender', 'name']"
            ]
          },
          "execution_count": 25,
          "metadata": {},
          "output_type": "execute_result"
        }
      ],
      "source": [
        "sorted(d)\n",
        "#sorted on the basis of alphabets"
      ]
    },
    {
      "cell_type": "code",
      "execution_count": null,
      "metadata": {
        "colab": {
          "base_uri": "https://localhost:8080/"
        },
        "id": "lrU6lXVDANZq",
        "outputId": "acc93f32-7f50-46c0-a405-fef6da847040"
      },
      "outputs": [
        {
          "data": {
            "text/plain": [
              "['name', 'gender', 'age']"
            ]
          },
          "execution_count": 26,
          "metadata": {},
          "output_type": "execute_result"
        }
      ],
      "source": [
        "sorted(d,reverse=True)\n",
        "#sorted in descending order according to first alphabet"
      ]
    },
    {
      "cell_type": "code",
      "execution_count": null,
      "metadata": {
        "colab": {
          "base_uri": "https://localhost:8080/"
        },
        "id": "Nd35ry7lAc0b",
        "outputId": "cd2de903-b340-4ec7-bc72-3bcfe584c3df"
      },
      "outputs": [
        {
          "name": "stdout",
          "output_type": "stream",
          "text": [
            "dict_items([('name', 'dharam'), ('age', 23), ('gender', 'male')])\n"
          ]
        }
      ],
      "source": [
        "print(d.items())\n",
        "#"
      ]
    },
    {
      "cell_type": "code",
      "execution_count": null,
      "metadata": {
        "colab": {
          "base_uri": "https://localhost:8080/"
        },
        "id": "u48GFDZpOYnI",
        "outputId": "f8953d9e-247e-4dc8-cef3-6f117bca0efc"
      },
      "outputs": [
        {
          "name": "stdout",
          "output_type": "stream",
          "text": [
            "dict_keys(['name', 'age', 'gender'])\n"
          ]
        }
      ],
      "source": [
        "print(d.keys())"
      ]
    },
    {
      "cell_type": "code",
      "execution_count": null,
      "metadata": {
        "colab": {
          "base_uri": "https://localhost:8080/"
        },
        "id": "Xwf5pPnZOb5y",
        "outputId": "0f9e1fc1-e51a-4929-dd04-e39a7a23df50"
      },
      "outputs": [
        {
          "name": "stdout",
          "output_type": "stream",
          "text": [
            "dict_values(['dharam', 23, 'male'])\n"
          ]
        }
      ],
      "source": [
        "print(d.values())"
      ]
    },
    {
      "cell_type": "code",
      "execution_count": null,
      "metadata": {
        "colab": {
          "base_uri": "https://localhost:8080/"
        },
        "id": "ZxBjEyJYPv6s",
        "outputId": "b53e6fa9-cc4e-4bde-fef5-d1fe297e33b2"
      },
      "outputs": [
        {
          "name": "stdout",
          "output_type": "stream",
          "text": [
            "{1: 2, 3: 4, 4: 7, 6: 8}\n"
          ]
        }
      ],
      "source": [
        "d1={1:2,3:4,4:5}\n",
        "d2={4:7,6:8}\n",
        "d1.update(d2)\n",
        "print(d1)\n",
        "#As we can see here, value of 4 which is 5 gets updated by 7 and 6 key which was not there is now added"
      ]
    },
    {
      "cell_type": "code",
      "execution_count": null,
      "metadata": {
        "colab": {
          "base_uri": "https://localhost:8080/"
        },
        "id": "rPUnlbDdRqgV",
        "outputId": "3c73dcc0-98e5-4a59-b40c-bd19acd14053"
      },
      "outputs": [
        {
          "data": {
            "text/plain": [
              "{1: 2, 2: 4, 3: 6, 4: 8, 5: 10, 6: 12, 7: 14, 8: 16, 9: 18, 10: 20}"
            ]
          },
          "execution_count": 34,
          "metadata": {},
          "output_type": "execute_result"
        }
      ],
      "source": [
        "#dictionary comprehension\n",
        "#{key:values for variables in iterable}\n",
        "{i:i*2 for i in range(1,11)}"
      ]
    },
    {
      "cell_type": "code",
      "execution_count": null,
      "metadata": {
        "colab": {
          "base_uri": "https://localhost:8080/"
        },
        "id": "WJWuRdAJaiJN",
        "outputId": "1b17ef15-cbb0-4f3e-930a-c78b333e1c9d"
      },
      "outputs": [
        {
          "data": {
            "text/plain": [
              "{'delhi': 620.0, 'mumbai': 1240.0, 'banglore': 1860.0}"
            ]
          },
          "execution_count": 35,
          "metadata": {},
          "output_type": "execute_result"
        }
      ],
      "source": [
        "distances={'delhi':1000,'mumbai':2000,'banglore':3000}\n",
        "{key:value*0.62 for (key,value) in distances.items()}"
      ]
    },
    {
      "cell_type": "code",
      "execution_count": null,
      "metadata": {
        "colab": {
          "base_uri": "https://localhost:8080/"
        },
        "id": "nI7tGEZgcwUy",
        "outputId": "5b2ffd55-b2c2-4892-8fcb-3fa9768e9c0c"
      },
      "outputs": [
        {
          "data": {
            "text/plain": [
              "[('Sunday', 30.6),\n",
              " ('Monday', 32.6),\n",
              " ('Tuesday', 31.6),\n",
              " ('Wednesday', 29.4),\n",
              " ('Thursday', 45.0),\n",
              " ('Friday', 27.0),\n",
              " ('Saturday', 24.4)]"
            ]
          },
          "execution_count": 37,
          "metadata": {},
          "output_type": "execute_result"
        }
      ],
      "source": [
        "#using zip\n",
        "days=[\"Sunday\",\"Monday\",\"Tuesday\",\"Wednesday\",\"Thursday\",\"Friday\",\"Saturday\"]\n",
        "temp_c=[30.6,32.6,31.6,29.4,45.0,27.0,24.4]\n",
        "list(zip(days,temp_c))"
      ]
    },
    {
      "cell_type": "code",
      "execution_count": null,
      "metadata": {
        "colab": {
          "base_uri": "https://localhost:8080/"
        },
        "id": "6B7VTuNUelzR",
        "outputId": "f6b2b937-2650-4539-99ad-9dcaf3a4c3f1"
      },
      "outputs": [
        {
          "data": {
            "text/plain": [
              "{'Sunday': 30.6,\n",
              " 'Monday': 32.6,\n",
              " 'Tuesday': 31.6,\n",
              " 'Wednesday': 29.4,\n",
              " 'Thursday': 45.0,\n",
              " 'Friday': 27.0,\n",
              " 'Saturday': 24.4}"
            ]
          },
          "execution_count": 38,
          "metadata": {},
          "output_type": "execute_result"
        }
      ],
      "source": [
        "{key:value for (key,value) in list(zip(days,temp_c))}"
      ]
    },
    {
      "cell_type": "code",
      "execution_count": null,
      "metadata": {
        "colab": {
          "base_uri": "https://localhost:8080/"
        },
        "id": "tO-p2KIwe058",
        "outputId": "246e131f-0321-4ec9-8ff8-bc3316b9d0bc"
      },
      "outputs": [
        {
          "data": {
            "text/plain": [
              "{'Sunday': 30.6,\n",
              " 'Monday': 32.6,\n",
              " 'Tuesday': 31.6,\n",
              " 'Wednesday': 29.4,\n",
              " 'Thursday': 45.0,\n",
              " 'Friday': 27.0,\n",
              " 'Saturday': 24.4}"
            ]
          },
          "execution_count": 39,
          "metadata": {},
          "output_type": "execute_result"
        }
      ],
      "source": [
        "{key:value for (key,value) in zip(days,temp_c)}"
      ]
    },
    {
      "cell_type": "code",
      "execution_count": null,
      "metadata": {
        "colab": {
          "base_uri": "https://localhost:8080/"
        },
        "id": "S2lxzy72ghEn",
        "outputId": "f7f1dfde-23af-4f4d-e965-794c04ead882"
      },
      "outputs": [
        {
          "data": {
            "text/plain": [
              "{'phone': 10, 'charger': 32}"
            ]
          },
          "execution_count": 41,
          "metadata": {},
          "output_type": "execute_result"
        }
      ],
      "source": [
        "products={'phone':10,'laptop':0,'charger':32,'tablet':0}\n",
        "{key:value for (key,value) in products.items() if value>0}"
      ]
    },
    {
      "cell_type": "code",
      "execution_count": null,
      "metadata": {
        "colab": {
          "base_uri": "https://localhost:8080/"
        },
        "id": "oY_IJwy7nWvy",
        "outputId": "b88304a6-31f5-499f-bcd5-7205cc19bb4b"
      },
      "outputs": [
        {
          "data": {
            "text/plain": [
              "{2: {1: 2, 2: 4, 3: 6, 4: 8, 5: 10, 6: 12, 7: 14, 8: 16, 9: 18, 10: 20},\n",
              " 3: {1: 3, 2: 6, 3: 9, 4: 12, 5: 15, 6: 18, 7: 21, 8: 24, 9: 27, 10: 30},\n",
              " 4: {1: 4, 2: 8, 3: 12, 4: 16, 5: 20, 6: 24, 7: 28, 8: 32, 9: 36, 10: 40}}"
            ]
          },
          "execution_count": 43,
          "metadata": {},
          "output_type": "execute_result"
        }
      ],
      "source": [
        "#print table of numbers from 2 to 4\n",
        "{i:{j:i*j for j in range(1,11)} for i in range(2,5)}"
      ]
    },
    {
      "cell_type": "code",
      "execution_count": null,
      "metadata": {
        "colab": {
          "base_uri": "https://localhost:8080/"
        },
        "id": "QKo1g_hzn3gV",
        "outputId": "88faf3a2-90fd-4c37-e555-f91232e22eb2"
      },
      "outputs": [
        {
          "name": "stdout",
          "output_type": "stream",
          "text": [
            "[4, 3]\n"
          ]
        }
      ],
      "source": [
        "my_list = [1, 2, 3, 4, 5]\n",
        "result = my_list[-2:-4:-1]\n",
        "print(result)"
      ]
    },
    {
      "cell_type": "code",
      "execution_count": null,
      "metadata": {
        "colab": {
          "base_uri": "https://localhost:8080/"
        },
        "id": "nmkGkOGsB9rq",
        "outputId": "800f0349-d3b4-417b-837c-f428a594d3d8"
      },
      "outputs": [
        {
          "name": "stdout",
          "output_type": "stream",
          "text": [
            "(1, 2, 3, 4, 5, 4, 5, 6, 7, 8)\n"
          ]
        },
        {
          "data": {
            "text/plain": [
              "(1, 2, 3, 4, 5, 6, 7, 8)"
            ]
          },
          "execution_count": 2,
          "metadata": {},
          "output_type": "execute_result"
        }
      ],
      "source": [
        "t1=(1,2,3,4,5)\n",
        "t2=(4,5,6,7,8)\n",
        "print(t1+t2)\n",
        "tuple(set(t1+t2))"
      ]
    },
    {
      "cell_type": "code",
      "execution_count": null,
      "metadata": {
        "colab": {
          "base_uri": "https://localhost:8080/"
        },
        "id": "bW6N7f89F2xm",
        "outputId": "b3a576da-5af4-4d08-a0ff-a521654afeab"
      },
      "outputs": [
        {
          "name": "stdout",
          "output_type": "stream",
          "text": [
            "(5, 6)\n",
            "5\n",
            "(5, 7)\n",
            "5\n",
            "(5, 8)\n",
            "5\n",
            "(6, 10)\n",
            "6\n",
            "(7, 13)\n",
            "7\n",
            "[]\n",
            "[(5, 6), (5, 7), (5, 8), (6, 10), (7, 13)]\n"
          ]
        }
      ],
      "source": [
        "# Q1: Join Tuples if similar initial element\n",
        "# While working with Python tuples, we can have a problem in which we need to perform concatenation of records from the similarity of initial element. This problem can have applications in data domains such as Data Science.\n",
        "test_list = [(5, 6), (5, 7), (5, 8), (6, 10), (7, 13)]\n",
        "t1=[]\n",
        "t2=[]\n",
        "t3=[]\n",
        "for t in test_list:\n",
        "  print(t)\n",
        "  print(t[0])\n",
        "  if t[0] in t3:\n",
        "    t3+=t\n",
        "    print(\"k\")\n",
        "  else:\n",
        "    t1.append(t)\n",
        "print(t3)\n",
        "print(t1)\n"
      ]
    },
    {
      "cell_type": "code",
      "execution_count": null,
      "metadata": {
        "colab": {
          "base_uri": "https://localhost:8080/"
        },
        "id": "hb8VEC8WYfP0",
        "outputId": "f03d8c7b-b335-4c63-e8dc-46014d8bfed8"
      },
      "outputs": [
        {
          "name": "stdout",
          "output_type": "stream",
          "text": [
            "{1: [3, 2]}\n"
          ]
        }
      ],
      "source": [
        "res={}\n",
        "res[1]=[3]\n",
        "res[1].append(2)\n",
        "print(res)"
      ]
    },
    {
      "cell_type": "code",
      "execution_count": null,
      "metadata": {
        "colab": {
          "base_uri": "https://localhost:8080/"
        },
        "id": "Vhl2PJGUIhUe",
        "outputId": "523d0255-d516-4ef9-ff78-2c96777479bc"
      },
      "outputs": [
        {
          "data": {
            "text/plain": [
              "dict_items([(5, [6, 7, 8]), (6, 10), (7, 13)])"
            ]
          },
          "execution_count": 14,
          "metadata": {},
          "output_type": "execute_result"
        }
      ],
      "source": [
        "dict={5:[6,7,8],6:[10],7:[13]}\n",
        "dict.items()"
      ]
    },
    {
      "cell_type": "code",
      "execution_count": null,
      "metadata": {
        "colab": {
          "base_uri": "https://localhost:8080/"
        },
        "id": "I5XWMpQsgfd_",
        "outputId": "9e87317f-4cba-4c28-a8b3-a0fda8aac022"
      },
      "outputs": [
        {
          "name": "stdout",
          "output_type": "stream",
          "text": [
            "[5, 6, 7, 8]\n"
          ]
        }
      ],
      "source": [
        "print([5]+[6,7,8])"
      ]
    },
    {
      "cell_type": "code",
      "execution_count": null,
      "metadata": {
        "colab": {
          "base_uri": "https://localhost:8080/",
          "height": 165
        },
        "id": "hlrPst96gCF-",
        "outputId": "658d7d86-83e0-47bd-b206-6ec69ddc2cbd"
      },
      "outputs": [
        {
          "ename": "TypeError",
          "evalue": "ignored",
          "output_type": "error",
          "traceback": [
            "\u001b[0;31m---------------------------------------------------------------------------\u001b[0m",
            "\u001b[0;31mTypeError\u001b[0m                                 Traceback (most recent call last)",
            "\u001b[0;32m<ipython-input-13-1ed44c559d78>\u001b[0m in \u001b[0;36m<cell line: 1>\u001b[0;34m()\u001b[0m\n\u001b[0;32m----> 1\u001b[0;31m \u001b[0mprint\u001b[0m\u001b[0;34m(\u001b[0m\u001b[0;36m5\u001b[0m\u001b[0;34m+\u001b[0m\u001b[0;34m[\u001b[0m\u001b[0;36m6\u001b[0m\u001b[0;34m,\u001b[0m\u001b[0;36m7\u001b[0m\u001b[0;34m,\u001b[0m\u001b[0;36m8\u001b[0m\u001b[0;34m]\u001b[0m\u001b[0;34m)\u001b[0m\u001b[0;34m\u001b[0m\u001b[0;34m\u001b[0m\u001b[0m\n\u001b[0m",
            "\u001b[0;31mTypeError\u001b[0m: unsupported operand type(s) for +: 'int' and 'list'"
          ]
        }
      ],
      "source": [
        "print(5+[6,7,8])"
      ]
    },
    {
      "cell_type": "code",
      "execution_count": null,
      "metadata": {
        "colab": {
          "base_uri": "https://localhost:8080/"
        },
        "id": "DGk9jIuHsgoD",
        "outputId": "54f6ef26-4b94-4696-e5ec-9fab0b902c75"
      },
      "outputs": [
        {
          "name": "stdout",
          "output_type": "stream",
          "text": [
            "{5: [6, 7, 8], 6: [10], 7: [13]}\n"
          ]
        }
      ],
      "source": [
        "#Q1\n",
        "test_list = [(5, 6), (5, 7), (5, 8), (6, 10), (7, 13)]\n",
        "result_dict={}\n",
        "for k in test_list:\n",
        "  key=k[0]\n",
        "  if key in result_dict:\n",
        "    result_dict[key].append(k[1])\n",
        "  else:\n",
        "    result_dict[key]=[k[1]]\n",
        "print(result_dict)"
      ]
    },
    {
      "cell_type": "code",
      "execution_count": null,
      "metadata": {
        "colab": {
          "base_uri": "https://localhost:8080/"
        },
        "id": "IpZ-aL1TtchI",
        "outputId": "42153660-9fe4-4106-ca34-2879ea5ccc68"
      },
      "outputs": [
        {
          "data": {
            "text/plain": [
              "[(5, 6, 7, 8), (6, 10), (7, 13)]"
            ]
          },
          "execution_count": 18,
          "metadata": {},
          "output_type": "execute_result"
        }
      ],
      "source": [
        "test_list = [(5, 6), (5, 7), (5, 8), (6, 10), (7, 13)]\n",
        "result_dict={}\n",
        "for k in test_list:\n",
        "  key=k[0]\n",
        "  if key in result_dict:\n",
        "    result_dict[key].append(k[1])\n",
        "  else:\n",
        "    result_dict[key]=[k[1]]\n",
        "[tuple([key]+result) for (key,result) in result_dict.items()]"
      ]
    },
    {
      "cell_type": "code",
      "execution_count": null,
      "metadata": {
        "colab": {
          "base_uri": "https://localhost:8080/"
        },
        "id": "Fn4yEs2FuTiZ",
        "outputId": "676248d5-9784-4017-b639-866b7f688378"
      },
      "outputs": [
        {
          "data": {
            "text/plain": [
              "[(5, 6, 7, 8), (6, 10), (7, 13)]"
            ]
          },
          "execution_count": 19,
          "metadata": {},
          "output_type": "execute_result"
        }
      ],
      "source": [
        "test_list = [(5, 6), (5, 7), (5, 8), (6, 10), (7, 13)]\n",
        "result_dict={}\n",
        "for k in test_list:\n",
        "  key=k[0]\n",
        "  if key in result_dict:\n",
        "    result_dict[key].append(k[1])\n",
        "  else:\n",
        "    result_dict[key]=[k[1]]\n",
        "[tuple([key]+result) for (key,result) in result_dict.items()]"
      ]
    },
    {
      "cell_type": "code",
      "execution_count": null,
      "metadata": {
        "id": "D9AjKiIayj83"
      },
      "outputs": [],
      "source": [
        "# The original tuple : (1, 5, 7, 8, 10)\n",
        "# Resultant tuple after multiplication :\n",
        "\n",
        "# (1*5, 1*5+5*7, 7*5 + 7*8, 8*7 + 8*10, 10*8) -> (5, 40, 91, 136, 80)\n",
        "c=(1, 5, 7, 8, 10)\n",
        "for i in range(2,len(c)-2):\n"
      ]
    },
    {
      "cell_type": "code",
      "execution_count": null,
      "metadata": {
        "colab": {
          "base_uri": "https://localhost:8080/"
        },
        "id": "9Cx10gsAJ1Q9",
        "outputId": "3e6f6279-efce-4a08-c04d-f3955535967e"
      },
      "outputs": [
        {
          "data": {
            "text/plain": [
              "[(1, 5, 7), (5, 7, 8), (7, 8, 10)]"
            ]
          },
          "execution_count": 20,
          "metadata": {},
          "output_type": "execute_result"
        }
      ],
      "source": [
        "c=(1,5,7,8,10)\n",
        "list(zip(c,c[1:],c[2:]))"
      ]
    },
    {
      "cell_type": "code",
      "execution_count": null,
      "metadata": {
        "colab": {
          "base_uri": "https://localhost:8080/"
        },
        "id": "_sqzAo1qZtIb",
        "outputId": "c026a8a6-7b61-4bc1-9ff6-0002686c3eb8"
      },
      "outputs": [
        {
          "name": "stdout",
          "output_type": "stream",
          "text": [
            "(40, 91, 136)\n"
          ]
        }
      ],
      "source": [
        "c = (1, 5, 7, 8, 10)\n",
        "\n",
        "# Perform element-wise multiplication and addition using list comprehension and zip\n",
        "resultant_tuple = tuple(a * b + b * c for a, b, c in zip(c, c[1:], c[2:]))\n",
        "\n",
        "print(resultant_tuple)\n"
      ]
    },
    {
      "cell_type": "code",
      "execution_count": null,
      "metadata": {
        "colab": {
          "base_uri": "https://localhost:8080/"
        },
        "id": "sxihp1F4jKPW",
        "outputId": "4d3ffa38-0fee-473e-bbca-9ab3dc73d4f6"
      },
      "outputs": [
        {
          "data": {
            "text/plain": [
              "[(1, 5, 7), (5, 7, 8), (7, 8, 10)]"
            ]
          },
          "execution_count": 22,
          "metadata": {},
          "output_type": "execute_result"
        }
      ],
      "source": [
        "c=(1,5,7,8,10)\n",
        "list(zip(c,c[1:],c[2:]))"
      ]
    },
    {
      "cell_type": "code",
      "execution_count": null,
      "metadata": {
        "colab": {
          "base_uri": "https://localhost:8080/"
        },
        "id": "PyaWLf35jb6X",
        "outputId": "2d5c1750-8b33-4b4a-833c-bda2ef1963de"
      },
      "outputs": [
        {
          "name": "stdout",
          "output_type": "stream",
          "text": [
            "(5, 40, 91, 136, 80)\n"
          ]
        }
      ],
      "source": [
        "#Q2\n",
        "c=(1,5,7,8,10)\n",
        "resultant_tuple=(c[0]*c[1],)+tuple(a*b+b*c for a,b,c in zip(c,c[1:],c[2:]))+(c[-1]*c[-2],)\n",
        "print(resultant_tuple)\n"
      ]
    },
    {
      "cell_type": "code",
      "execution_count": null,
      "metadata": {
        "colab": {
          "base_uri": "https://localhost:8080/"
        },
        "id": "P5YZNy70nduG",
        "outputId": "5d0ab044-e19f-452d-e700-370dbc412b81"
      },
      "outputs": [
        {
          "name": "stdout",
          "output_type": "stream",
          "text": [
            "[5, 40, 91, 136, 80]\n"
          ]
        }
      ],
      "source": [
        "#Q2 type\n",
        "c=[1,5,7,8,10]\n",
        "resultant_tuple=[c[0]*c[1]]+[a*b+b*c for a,b,c in zip(c,c[1:],c[2:])]+[c[-1]*c[-2]]\n",
        "print(resultant_tuple)"
      ]
    },
    {
      "cell_type": "code",
      "execution_count": null,
      "metadata": {
        "colab": {
          "base_uri": "https://localhost:8080/",
          "height": 235
        },
        "id": "pE8yeeHgoj_e",
        "outputId": "c33c2339-e47f-4758-eeca-917fa41c5ce7"
      },
      "outputs": [
        {
          "ename": "TypeError",
          "evalue": "ignored",
          "output_type": "error",
          "traceback": [
            "\u001b[0;31m---------------------------------------------------------------------------\u001b[0m",
            "\u001b[0;31mTypeError\u001b[0m                                 Traceback (most recent call last)",
            "\u001b[0;32m<ipython-input-29-6fec5829cf0c>\u001b[0m in \u001b[0;36m<cell line: 4>\u001b[0;34m()\u001b[0m\n\u001b[1;32m      2\u001b[0m \u001b[0mc\u001b[0m\u001b[0;34m=\u001b[0m\u001b[0;34m{\u001b[0m\u001b[0;36m1\u001b[0m\u001b[0;34m,\u001b[0m\u001b[0;36m5\u001b[0m\u001b[0;34m,\u001b[0m\u001b[0;36m7\u001b[0m\u001b[0;34m,\u001b[0m\u001b[0;36m8\u001b[0m\u001b[0;34m,\u001b[0m\u001b[0;36m10\u001b[0m\u001b[0;34m}\u001b[0m\u001b[0;34m\u001b[0m\u001b[0;34m\u001b[0m\u001b[0m\n\u001b[1;32m      3\u001b[0m \u001b[0ms\u001b[0m\u001b[0;34m=\u001b[0m\u001b[0mset\u001b[0m\u001b[0;34m(\u001b[0m\u001b[0;34m)\u001b[0m\u001b[0;34m\u001b[0m\u001b[0;34m\u001b[0m\u001b[0m\n\u001b[0;32m----> 4\u001b[0;31m \u001b[0ms\u001b[0m\u001b[0;34m.\u001b[0m\u001b[0madd\u001b[0m\u001b[0;34m(\u001b[0m\u001b[0mc\u001b[0m\u001b[0;34m[\u001b[0m\u001b[0;36m0\u001b[0m\u001b[0;34m]\u001b[0m\u001b[0;34m*\u001b[0m\u001b[0mc\u001b[0m\u001b[0;34m[\u001b[0m\u001b[0;36m1\u001b[0m\u001b[0;34m]\u001b[0m\u001b[0;34m)\u001b[0m\u001b[0;34m\u001b[0m\u001b[0;34m\u001b[0m\u001b[0m\n\u001b[0m\u001b[1;32m      5\u001b[0m \u001b[0ms\u001b[0m\u001b[0;34m.\u001b[0m\u001b[0madd\u001b[0m\u001b[0;34m(\u001b[0m\u001b[0ma\u001b[0m\u001b[0;34m*\u001b[0m\u001b[0mb\u001b[0m\u001b[0;34m+\u001b[0m\u001b[0mb\u001b[0m\u001b[0;34m*\u001b[0m\u001b[0mc\u001b[0m \u001b[0;32mfor\u001b[0m \u001b[0ma\u001b[0m\u001b[0;34m,\u001b[0m\u001b[0mb\u001b[0m\u001b[0;34m,\u001b[0m\u001b[0mc\u001b[0m \u001b[0;32min\u001b[0m \u001b[0mzip\u001b[0m\u001b[0;34m(\u001b[0m\u001b[0mc\u001b[0m\u001b[0;34m,\u001b[0m\u001b[0mc\u001b[0m\u001b[0;34m[\u001b[0m\u001b[0;36m1\u001b[0m\u001b[0;34m:\u001b[0m\u001b[0;34m]\u001b[0m\u001b[0;34m,\u001b[0m\u001b[0mc\u001b[0m\u001b[0;34m[\u001b[0m\u001b[0;36m2\u001b[0m\u001b[0;34m:\u001b[0m\u001b[0;34m]\u001b[0m\u001b[0;34m)\u001b[0m\u001b[0;34m)\u001b[0m\u001b[0;34m\u001b[0m\u001b[0;34m\u001b[0m\u001b[0m\n\u001b[1;32m      6\u001b[0m \u001b[0ms\u001b[0m\u001b[0;34m.\u001b[0m\u001b[0madd\u001b[0m\u001b[0;34m(\u001b[0m\u001b[0mc\u001b[0m\u001b[0;34m[\u001b[0m\u001b[0;34m-\u001b[0m\u001b[0;36m1\u001b[0m\u001b[0;34m]\u001b[0m\u001b[0;34m*\u001b[0m\u001b[0mc\u001b[0m\u001b[0;34m[\u001b[0m\u001b[0;34m-\u001b[0m\u001b[0;36m2\u001b[0m\u001b[0;34m]\u001b[0m\u001b[0;34m)\u001b[0m\u001b[0;34m\u001b[0m\u001b[0;34m\u001b[0m\u001b[0m\n",
            "\u001b[0;31mTypeError\u001b[0m: 'set' object is not subscriptable"
          ]
        }
      ],
      "source": [
        "#Q2 type\n",
        "c={1,5,7,8,10}\n",
        "s=set()\n",
        "s.add(c[0]*c[1])\n",
        "s.add(a*b+b*c for a,b,c in zip(c,c[1:],c[2:]))\n",
        "s.add(c[-1]*c[-2])\n",
        "print(s)"
      ]
    },
    {
      "cell_type": "code",
      "execution_count": null,
      "metadata": {
        "colab": {
          "base_uri": "https://localhost:8080/",
          "height": 235
        },
        "id": "nJDozNCPsxdf",
        "outputId": "dff29511-52f9-4e38-d48a-fa85cc8536f3"
      },
      "outputs": [
        {
          "ename": "TypeError",
          "evalue": "ignored",
          "output_type": "error",
          "traceback": [
            "\u001b[0;31m---------------------------------------------------------------------------\u001b[0m",
            "\u001b[0;31mTypeError\u001b[0m                                 Traceback (most recent call last)",
            "\u001b[0;32m<ipython-input-30-240acffa7129>\u001b[0m in \u001b[0;36m<cell line: 3>\u001b[0;34m()\u001b[0m\n\u001b[1;32m      1\u001b[0m \u001b[0mc\u001b[0m \u001b[0;34m=\u001b[0m \u001b[0;34m{\u001b[0m\u001b[0;36m1\u001b[0m\u001b[0;34m,\u001b[0m \u001b[0;36m5\u001b[0m\u001b[0;34m,\u001b[0m \u001b[0;36m7\u001b[0m\u001b[0;34m,\u001b[0m \u001b[0;36m8\u001b[0m\u001b[0;34m,\u001b[0m \u001b[0;36m10\u001b[0m\u001b[0;34m}\u001b[0m\u001b[0;34m\u001b[0m\u001b[0;34m\u001b[0m\u001b[0m\n\u001b[1;32m      2\u001b[0m \u001b[0ms\u001b[0m \u001b[0;34m=\u001b[0m \u001b[0mset\u001b[0m\u001b[0;34m(\u001b[0m\u001b[0;34m)\u001b[0m\u001b[0;34m\u001b[0m\u001b[0;34m\u001b[0m\u001b[0m\n\u001b[0;32m----> 3\u001b[0;31m \u001b[0ms\u001b[0m\u001b[0;34m.\u001b[0m\u001b[0madd\u001b[0m\u001b[0;34m(\u001b[0m\u001b[0mc\u001b[0m\u001b[0;34m[\u001b[0m\u001b[0;36m0\u001b[0m\u001b[0;34m]\u001b[0m \u001b[0;34m*\u001b[0m \u001b[0mc\u001b[0m\u001b[0;34m[\u001b[0m\u001b[0;36m1\u001b[0m\u001b[0;34m]\u001b[0m\u001b[0;34m)\u001b[0m\u001b[0;34m\u001b[0m\u001b[0;34m\u001b[0m\u001b[0m\n\u001b[0m\u001b[1;32m      4\u001b[0m \u001b[0ms\u001b[0m\u001b[0;34m.\u001b[0m\u001b[0mupdate\u001b[0m\u001b[0;34m(\u001b[0m\u001b[0ma\u001b[0m \u001b[0;34m*\u001b[0m \u001b[0mb\u001b[0m \u001b[0;34m+\u001b[0m \u001b[0mb\u001b[0m \u001b[0;34m*\u001b[0m \u001b[0mc\u001b[0m \u001b[0;32mfor\u001b[0m \u001b[0ma\u001b[0m\u001b[0;34m,\u001b[0m \u001b[0mb\u001b[0m\u001b[0;34m,\u001b[0m \u001b[0mc\u001b[0m \u001b[0;32min\u001b[0m \u001b[0mzip\u001b[0m\u001b[0;34m(\u001b[0m\u001b[0mc\u001b[0m\u001b[0;34m,\u001b[0m \u001b[0mc\u001b[0m\u001b[0;34m[\u001b[0m\u001b[0;36m1\u001b[0m\u001b[0;34m:\u001b[0m\u001b[0;34m]\u001b[0m\u001b[0;34m,\u001b[0m \u001b[0mc\u001b[0m\u001b[0;34m[\u001b[0m\u001b[0;36m2\u001b[0m\u001b[0;34m:\u001b[0m\u001b[0;34m]\u001b[0m\u001b[0;34m)\u001b[0m\u001b[0;34m)\u001b[0m\u001b[0;34m\u001b[0m\u001b[0;34m\u001b[0m\u001b[0m\n\u001b[1;32m      5\u001b[0m \u001b[0ms\u001b[0m\u001b[0;34m.\u001b[0m\u001b[0madd\u001b[0m\u001b[0;34m(\u001b[0m\u001b[0mc\u001b[0m\u001b[0;34m[\u001b[0m\u001b[0;34m-\u001b[0m\u001b[0;36m1\u001b[0m\u001b[0;34m]\u001b[0m \u001b[0;34m*\u001b[0m \u001b[0mc\u001b[0m\u001b[0;34m[\u001b[0m\u001b[0;34m-\u001b[0m\u001b[0;36m2\u001b[0m\u001b[0;34m]\u001b[0m\u001b[0;34m)\u001b[0m\u001b[0;34m\u001b[0m\u001b[0;34m\u001b[0m\u001b[0m\n",
            "\u001b[0;31mTypeError\u001b[0m: 'set' object is not subscriptable"
          ]
        }
      ],
      "source": [
        "c = {1, 5, 7, 8, 10}\n",
        "s = set()\n",
        "s.add(c[0] * c[1])\n",
        "s.update(a * b + b * c for a, b, c in zip(c, c[1:], c[2:]))\n",
        "s.add(c[-1] * c[-2])\n",
        "print(s)\n"
      ]
    },
    {
      "cell_type": "code",
      "execution_count": null,
      "metadata": {
        "colab": {
          "base_uri": "https://localhost:8080/",
          "height": 235
        },
        "id": "t7wbvE5mtF39",
        "outputId": "7b7e313a-bff6-4f4d-f691-0156c195ea96"
      },
      "outputs": [
        {
          "ename": "TypeError",
          "evalue": "ignored",
          "output_type": "error",
          "traceback": [
            "\u001b[0;31m---------------------------------------------------------------------------\u001b[0m",
            "\u001b[0;31mTypeError\u001b[0m                                 Traceback (most recent call last)",
            "\u001b[0;32m<ipython-input-31-98ee6473e66d>\u001b[0m in \u001b[0;36m<cell line: 3>\u001b[0;34m()\u001b[0m\n\u001b[1;32m      1\u001b[0m \u001b[0mc\u001b[0m \u001b[0;34m=\u001b[0m \u001b[0;34m{\u001b[0m\u001b[0;36m1\u001b[0m\u001b[0;34m,\u001b[0m \u001b[0;36m5\u001b[0m\u001b[0;34m,\u001b[0m \u001b[0;36m7\u001b[0m\u001b[0;34m,\u001b[0m \u001b[0;36m8\u001b[0m\u001b[0;34m,\u001b[0m \u001b[0;36m10\u001b[0m\u001b[0;34m}\u001b[0m\u001b[0;34m\u001b[0m\u001b[0;34m\u001b[0m\u001b[0m\n\u001b[1;32m      2\u001b[0m \u001b[0ms\u001b[0m \u001b[0;34m=\u001b[0m \u001b[0mset\u001b[0m\u001b[0;34m(\u001b[0m\u001b[0;34m)\u001b[0m\u001b[0;34m\u001b[0m\u001b[0;34m\u001b[0m\u001b[0m\n\u001b[0;32m----> 3\u001b[0;31m \u001b[0ms\u001b[0m\u001b[0;34m.\u001b[0m\u001b[0madd\u001b[0m\u001b[0;34m(\u001b[0m\u001b[0mc\u001b[0m\u001b[0;34m.\u001b[0m\u001b[0mpop\u001b[0m\u001b[0;34m(\u001b[0m\u001b[0;34m)\u001b[0m \u001b[0;34m*\u001b[0m \u001b[0mc\u001b[0m\u001b[0;34m.\u001b[0m\u001b[0mpop\u001b[0m\u001b[0;34m(\u001b[0m\u001b[0;36m0\u001b[0m\u001b[0;34m)\u001b[0m\u001b[0;34m)\u001b[0m\u001b[0;34m\u001b[0m\u001b[0;34m\u001b[0m\u001b[0m\n\u001b[0m\u001b[1;32m      4\u001b[0m \u001b[0ms\u001b[0m\u001b[0;34m.\u001b[0m\u001b[0mupdate\u001b[0m\u001b[0;34m(\u001b[0m\u001b[0ma\u001b[0m \u001b[0;34m*\u001b[0m \u001b[0mb\u001b[0m \u001b[0;34m+\u001b[0m \u001b[0mb\u001b[0m \u001b[0;34m*\u001b[0m \u001b[0mc\u001b[0m \u001b[0;32mfor\u001b[0m \u001b[0ma\u001b[0m\u001b[0;34m,\u001b[0m \u001b[0mb\u001b[0m\u001b[0;34m,\u001b[0m \u001b[0mc\u001b[0m \u001b[0;32min\u001b[0m \u001b[0mzip\u001b[0m\u001b[0;34m(\u001b[0m\u001b[0mc\u001b[0m\u001b[0;34m,\u001b[0m \u001b[0mc\u001b[0m\u001b[0;34m,\u001b[0m \u001b[0mc\u001b[0m\u001b[0;34m)\u001b[0m\u001b[0;34m)\u001b[0m\u001b[0;34m\u001b[0m\u001b[0;34m\u001b[0m\u001b[0m\n\u001b[1;32m      5\u001b[0m \u001b[0mprint\u001b[0m\u001b[0;34m(\u001b[0m\u001b[0ms\u001b[0m\u001b[0;34m)\u001b[0m\u001b[0;34m\u001b[0m\u001b[0;34m\u001b[0m\u001b[0m\n",
            "\u001b[0;31mTypeError\u001b[0m: set.pop() takes no arguments (1 given)"
          ]
        }
      ],
      "source": [
        "c = {1, 5, 7, 8, 10}\n",
        "s = set()\n",
        "s.add(c.pop() * c.pop(0))\n",
        "s.update(a * b + b * c for a, b, c in zip(c, c, c))\n",
        "print(s)\n"
      ]
    },
    {
      "cell_type": "code",
      "execution_count": null,
      "metadata": {
        "colab": {
          "base_uri": "https://localhost:8080/"
        },
        "id": "I4i4jJLctIcR",
        "outputId": "fa3edf0f-3c96-4e9e-af14-217d03efc47a"
      },
      "outputs": [
        {
          "name": "stdout",
          "output_type": "stream",
          "text": [
            "(5, 40, 91, 136, 80)\n"
          ]
        }
      ],
      "source": [
        "#Q2 doing the 2nd question again with sets\n",
        "c=(1,5,7,8,10)\n",
        "resultant_set=(c[0]*c[1],)+tuple(a*b+b*c for a,b,c in zip(c,c[1:],c[2:]))+(c[-2]*c[-1],)\n",
        "print(resultant_set)"
      ]
    },
    {
      "cell_type": "code",
      "execution_count": null,
      "metadata": {
        "colab": {
          "base_uri": "https://localhost:8080/"
        },
        "id": "wTJRiS-avBV8",
        "outputId": "710ca011-c481-4b49-e892-75c7c2b7be45"
      },
      "outputs": [
        {
          "data": {
            "text/plain": [
              "[(1, 5, 7), (5, 7, 8), (7, 8, 10)]"
            ]
          },
          "execution_count": 36,
          "metadata": {},
          "output_type": "execute_result"
        }
      ],
      "source": [
        "list(zip(c,c[1:],c[2:]))"
      ]
    },
    {
      "cell_type": "code",
      "execution_count": null,
      "metadata": {
        "colab": {
          "base_uri": "https://localhost:8080/"
        },
        "id": "oh9621z6vNJa",
        "outputId": "6bdd3426-4606-4031-88e9-c02bd167efa3"
      },
      "outputs": [
        {
          "name": "stdout",
          "output_type": "stream",
          "text": [
            "Different\n"
          ]
        }
      ],
      "source": [
        "# Q3: Check is tuples are same or not?\n",
        "# Two tuples would be same if both tuples have same element at same index\n",
        "t1 = (1,2,3,0)\n",
        "t2 = (0,1,2,3)\n",
        "t3=(1,2,3,0)\n",
        "s=True\n",
        "for i in t1:\n",
        "  if t1[i]!=t2[i]:\n",
        "    s=False\n",
        "if s:\n",
        "  print(\"Same\")\n",
        "else:\n",
        "  print(\"Different\")"
      ]
    },
    {
      "cell_type": "code",
      "execution_count": null,
      "metadata": {
        "id": "eMQKZZ5YxYjS"
      },
      "outputs": [],
      "source": [
        "# Q4: Count no of tuples, list and set from a list\n",
        "list1 = [{'hi', 'bye'},{'Geeks', 'forGeeks'},('a', 'b'),['hi', 'bye'],['a', 'b']]\n",
        "count_list=0\n",
        "count_tuple=0\n",
        "count_set=0\n",
        "for t in list1:\n"
      ]
    },
    {
      "cell_type": "code",
      "execution_count": null,
      "metadata": {
        "colab": {
          "base_uri": "https://localhost:8080/"
        },
        "id": "y1M54aZMyxIh",
        "outputId": "6417c7eb-c695-4c3d-db86-052a2fb25623"
      },
      "outputs": [
        {
          "name": "stdout",
          "output_type": "stream",
          "text": [
            "[4.2, 3.4]\n",
            "[5, 6]\n"
          ]
        }
      ],
      "source": [
        "#use of isinstance function\n",
        "l=[5,4.2,3.4,6]\n",
        "fl=[]\n",
        "innss=[]\n",
        "for k in l:\n",
        "  if isinstance(k,float):\n",
        "    fl.append(k)\n",
        "  else:\n",
        "    innss.append(k)\n",
        "print(fl)\n",
        "print(innss)"
      ]
    },
    {
      "cell_type": "code",
      "execution_count": null,
      "metadata": {
        "colab": {
          "base_uri": "https://localhost:8080/"
        },
        "id": "U5SMuHl30QkZ",
        "outputId": "c0fc6e7a-589c-4f18-e327-04027b187c19"
      },
      "outputs": [
        {
          "name": "stdout",
          "output_type": "stream",
          "text": [
            "1 2 2\n"
          ]
        }
      ],
      "source": [
        "# Q4: Count no of tuples, list and set from a list\n",
        "list1 = [{'hi', 'bye'},{'Geeks', 'forGeeks'},('a', 'b'),['hi', 'bye'],['a', 'b']]\n",
        "count_tuples=0\n",
        "count_list=0\n",
        "count_set=0\n",
        "for i in list1:\n",
        "  if isinstance(i,tuple):\n",
        "    count_tuples+=1\n",
        "  elif isinstance(i,list):\n",
        "    count_list+=1\n",
        "  elif isinstance(i,set):\n",
        "    count_set+=1\n",
        "print(count_tuples,count_list,count_set)\n"
      ]
    },
    {
      "cell_type": "code",
      "execution_count": null,
      "metadata": {
        "id": "4stfJwT51Fg0"
      },
      "outputs": [],
      "source": [
        "# Q5: Shortlist Students for a Job role\n",
        "# Ask user to input students record and store in tuples for each record. Then Ask user to input three things he wants in the candidate- Primary Skill, Higher Education, Year of Graduation.\n",
        "\n",
        "# Show every students record in form of tuples if matches all required criteria.\n",
        "\n",
        "# It is assumed that there will be only one primry skill.\n",
        "\n",
        "# If no such candidate found, print No such candidate\n"
      ]
    },
    {
      "cell_type": "code",
      "execution_count": null,
      "metadata": {
        "colab": {
          "base_uri": "https://localhost:8080/"
        },
        "id": "FrM5EwD_XxbV",
        "outputId": "adc4104c-e24c-4c7c-d611-43bca5429887"
      },
      "outputs": [
        {
          "data": {
            "text/plain": [
              "[80, 20]"
            ]
          },
          "execution_count": 2,
          "metadata": {},
          "output_type": "execute_result"
        }
      ],
      "source": [
        "#q6\n",
        "ar1 = [1, 5, 10, 20, 40, 80]\n",
        "ar2 = [6, 7, 20, 80, 100]\n",
        "ar3 = [3, 4, 15, 20, 30, 70, 80, 120]\n",
        "fs1=frozenset(ar1)\n",
        "fs2=frozenset(ar2)\n",
        "fs3=frozenset(ar3)\n",
        "list(fs1 & fs2 & fs3)"
      ]
    },
    {
      "cell_type": "code",
      "execution_count": null,
      "metadata": {
        "colab": {
          "base_uri": "https://localhost:8080/"
        },
        "id": "coEXNhexZCAH",
        "outputId": "077efd8f-ee96-42d1-b573-466280d64116"
      },
      "outputs": [
        {
          "name": "stdout",
          "output_type": "stream",
          "text": [
            "6\n"
          ]
        }
      ],
      "source": [
        "# Q2: Write a program to count unique number of vowels using sets in a given string. Lowercase and upercase vowels will be taken as different.\n",
        "Str1 = \"hands-on data science mentorship progrAm with live classes at affordable fee only on CampusX\"\n",
        "a1=['a','e','i','o','u','A','E','I','O','U']\n",
        "b1=[]\n",
        "for i in Str1:\n",
        "  if i in a1:\n",
        "    b1.append(i)\n",
        "c1=list(set(b1))\n",
        "print(len(c1))"
      ]
    },
    {
      "cell_type": "code",
      "execution_count": null,
      "metadata": {
        "colab": {
          "base_uri": "https://localhost:8080/"
        },
        "id": "wL2c2B75gxpN",
        "outputId": "819246ea-d66d-4c58-c5a3-f580717f0574"
      },
      "outputs": [
        {
          "name": "stdout",
          "output_type": "stream",
          "text": [
            "Enter the string: Binary\n",
            "No\n"
          ]
        }
      ],
      "source": [
        "# Q3: Write a program to Check if a given string is binary string of or not.\n",
        "# A string is said to be binary if it's consists of only two unique characters.\n",
        "\n",
        "# Take string input from user.\n",
        "def mnd(a):\n",
        "  a1=list(set([i for i in a]))\n",
        "  if len(a1)==2:\n",
        "    print(\"Binary\")\n",
        "  else:\n",
        "    print(\"No\")\n",
        "\n",
        "a=input(\"Enter the string: \")\n",
        "mnd(a)\n",
        "\n"
      ]
    },
    {
      "cell_type": "code",
      "execution_count": null,
      "metadata": {
        "id": "-4m3vRuWlYoa"
      },
      "outputs": [],
      "source": [
        "# 4: find union of n arrays.\n",
        "# Example 1:\n",
        "\n",
        "# Input:\n",
        "\n",
        "a=[[1, 2, 2, 4, 3, 6],\n",
        " [5, 1, 3, 4],\n",
        " [9, 5, 7, 1],\n",
        " [2, 4, 1, 3]]\n"
      ]
    },
    {
      "cell_type": "code",
      "execution_count": null,
      "metadata": {
        "id": "C1KA3C4Yx_vT"
      },
      "outputs": [],
      "source": [
        "a=[[1, 2, 2, 4, 3, 6],\n",
        " [5, 1, 3, 4],\n",
        " [9, 5, 7, 1],\n",
        " [2, 4, 1, 3]]\n"
      ]
    },
    {
      "cell_type": "code",
      "execution_count": null,
      "metadata": {
        "colab": {
          "base_uri": "https://localhost:8080/"
        },
        "id": "syli1ox6y2aH",
        "outputId": "64caa613-4ced-4e93-afb5-5566192e24c1"
      },
      "outputs": [
        {
          "data": {
            "text/plain": [
              "[1, 2, 3, 4, 5, 6, 7, 9]"
            ]
          },
          "execution_count": 9,
          "metadata": {},
          "output_type": "execute_result"
        }
      ],
      "source": [
        "def mnds(a):\n",
        "  a1=set()\n",
        "  for i in a:\n",
        "    a1.update(i)\n",
        "  return list(a1)\n",
        "mnds(a)\n",
        "#update statement combines two sets having unique elements"
      ]
    },
    {
      "cell_type": "code",
      "execution_count": null,
      "metadata": {
        "colab": {
          "base_uri": "https://localhost:8080/"
        },
        "id": "eMt9Y3Jazl5f",
        "outputId": "59ed6f30-4857-4575-d05c-b6fcb0604889"
      },
      "outputs": [
        {
          "name": "stdout",
          "output_type": "stream",
          "text": [
            "{1, 2, 3, 4, 5, 6, 7, 8}\n"
          ]
        }
      ],
      "source": [
        "a1={1,2,3,4,5}\n",
        "a2={4,5,6,7,8}\n",
        "a1.update(a2)\n",
        "print(a1)\n",
        "#Update function adds 2 sets and it doesnot contain duplicates(which is characteristic of sets), sets are unordered,"
      ]
    },
    {
      "cell_type": "code",
      "execution_count": null,
      "metadata": {
        "colab": {
          "base_uri": "https://localhost:8080/"
        },
        "id": "NMykwy5ryw7J",
        "outputId": "41b662d6-ee89-41f5-f523-3b9205e6b217"
      },
      "outputs": [
        {
          "data": {
            "text/plain": [
              "[9, 10, 4, 5]"
            ]
          },
          "execution_count": 1,
          "metadata": {},
          "output_type": "execute_result"
        }
      ],
      "source": [
        "# Q5: Intersection of two lists. Intersection of two list means we need to take all those elements which are common to both of the initial lists and store them into another list. Only use using list-comprehension.\n",
        "lst1 = {15, 9, 10, 56, 23, 78, 5, 4, 9}\n",
        "lst2 = {9, 4, 5, 36, 47, 26, 10, 45, 87}\n",
        "[a for a in lst1&lst2]"
      ]
    },
    {
      "cell_type": "code",
      "execution_count": null,
      "metadata": {
        "colab": {
          "base_uri": "https://localhost:8080/"
        },
        "id": "tziTaADHz9zN",
        "outputId": "2b28691a-3fe7-43a7-9fd2-9d984037a696"
      },
      "outputs": [
        {
          "data": {
            "text/plain": [
              "[9, 11, 26, 28]"
            ]
          },
          "execution_count": 3,
          "metadata": {},
          "output_type": "execute_result"
        }
      ],
      "source": [
        "lst11 = {4, 9, 1, 17, 11, 26, 28, 54, 69}\n",
        "lst22 = {9, 9, 74, 21, 45, 11, 63, 28, 26}\n",
        "sorted([a for a in lst11&lst22])"
      ]
    },
    {
      "cell_type": "code",
      "execution_count": null,
      "metadata": {
        "colab": {
          "base_uri": "https://localhost:8080/"
        },
        "id": "dkgujn3Z19v3",
        "outputId": "a837fa52-ba91-4a0a-df22-b25db2785bc4"
      },
      "outputs": [
        {
          "name": "stdout",
          "output_type": "stream",
          "text": [
            "{'CampusX': 5, 'is': 4, 'Best': 3}\n",
            "CampusX\n"
          ]
        }
      ],
      "source": [
        "# Q1: Key with maximum unique values\n",
        "# Given a dictionary with values list, extract key whose value has most unique values.\n",
        "test_dict = {\"CampusX\" : [5, 7, 9, 4, 0], \"is\" : [6, 7, 4, 3, 3], \"Best\" : [9, 9, 6, 5, 5]}\n",
        "test_dict1={}\n",
        "for k in test_dict:\n",
        "  test_dict1[k]=len(set(test_dict[k]))\n",
        "print(test_dict1)\n",
        "c=[a for a in test_dict1 if test_dict1[a]==max(test_dict1.values())]\n",
        "print(\"\".join(c))"
      ]
    },
    {
      "cell_type": "code",
      "execution_count": null,
      "metadata": {
        "colab": {
          "base_uri": "https://localhost:8080/",
          "height": 36
        },
        "id": "kv2ozs3a-52y",
        "outputId": "78836d75-1466-4f66-fdb7-6928da340ff8"
      },
      "outputs": [
        {
          "data": {
            "application/vnd.google.colaboratory.intrinsic+json": {
              "type": "string"
            },
            "text/plain": [
              "'Best'"
            ]
          },
          "execution_count": 10,
          "metadata": {},
          "output_type": "execute_result"
        }
      ],
      "source": [
        "#Q1\n",
        "test_dict1 = {\"CampusX\" : [5, 7, 7, 7, 7], \"is\" : [6, 7, 7, 7], \"Best\" : [9, 9, 6, 5, 5]}\n",
        "test_dict2={}\n",
        "for k in test_dict1:\n",
        "  test_dict2[k]=len(set(test_dict1[k]))\n",
        "\"\".join([a for a in test_dict2 if test_dict2[a]==max(test_dict2.values())])"
      ]
    },
    {
      "cell_type": "code",
      "execution_count": null,
      "metadata": {
        "colab": {
          "base_uri": "https://localhost:8080/",
          "height": 70
        },
        "id": "FJLODki1GV4j",
        "outputId": "96145fbc-7a6e-4881-9703-3d921d9caaaa"
      },
      "outputs": [
        {
          "name": "stdout",
          "output_type": "stream",
          "text": [
            "['CampusX', 'best', 'for', 'DS', 'students.']\n",
            "['CampusX', 'is the best channel', 'for', 'Data-Science', 'students.']\n"
          ]
        },
        {
          "data": {
            "application/vnd.google.colaboratory.intrinsic+json": {
              "type": "string"
            },
            "text/plain": [
              "'CampusX is the best channel for Data-Science students.'"
            ]
          },
          "execution_count": 14,
          "metadata": {},
          "output_type": "execute_result"
        }
      ],
      "source": [
        "# Q2: Replace words from Dictionary. Given String, replace it’s words from lookup dictionary.\n",
        "# Example 1:\n",
        "\n",
        "# Input:\n",
        "\n",
        "test_str = 'CampusX best for DS students.'\n",
        "repl_dict = {\"best\" : \"is the best channel\", \"DS\" : \"Data-Science\"}\n",
        "c=test_str.split()\n",
        "print(c)\n",
        "d=[]\n",
        "for i in c:\n",
        "  if i in repl_dict:\n",
        "    d.append(repl_dict[i])\n",
        "  else:\n",
        "    d.append(i)\n",
        "print(d)\n",
        "\" \".join(d)"
      ]
    },
    {
      "cell_type": "code",
      "execution_count": null,
      "metadata": {
        "colab": {
          "base_uri": "https://localhost:8080/",
          "height": 36
        },
        "id": "NuH2yeuyINCC",
        "outputId": "064c83f7-88d2-40a2-d41f-a97838cdc6b2"
      },
      "outputs": [
        {
          "data": {
            "application/vnd.google.colaboratory.intrinsic+json": {
              "type": "string"
            },
            "text/plain": [
              "'CampusX best for DS students.'"
            ]
          },
          "execution_count": 17,
          "metadata": {},
          "output_type": "execute_result"
        }
      ],
      "source": [
        "# Example 2:\n",
        "\n",
        "# Input:\n",
        "\n",
        "test_str = 'CampusX best for DS students.'\n",
        "repl_dict = {\"good\" : \"is the best channel\", \"ds\" : \"Data-Science\"}\n",
        "c=[]\n",
        "d=test_str.split()\n",
        "for i in d:\n",
        "  if i in repl_dict:\n",
        "    c.append(repl_dict[i])\n",
        "  else:\n",
        "    c.append(i)\n",
        "\" \".join(c)"
      ]
    },
    {
      "cell_type": "code",
      "execution_count": null,
      "metadata": {
        "colab": {
          "base_uri": "https://localhost:8080/"
        },
        "id": "yTGRuOl5QgwP",
        "outputId": "21bcb300-1f86-45b5-9854-3642a8ade4c4"
      },
      "outputs": [
        {
          "data": {
            "text/plain": [
              "[('DataScience', 'name'), (3, 'id')]"
            ]
          },
          "execution_count": 18,
          "metadata": {},
          "output_type": "execute_result"
        }
      ],
      "source": [
        "# Q3: Convert List to List of dictionaries. Given list values and keys list, convert these values to key value pairs in form of list of dictionaries.\n",
        "# Example 1:\n",
        "\n",
        "# Input:\n",
        "\n",
        "test_list = [\"DataScience\", 3, \"is\", 8]\n",
        "key_list = [\"name\", \"id\"]\n",
        "list(zip(test_list,key_list))"
      ]
    },
    {
      "cell_type": "code",
      "execution_count": null,
      "metadata": {
        "colab": {
          "base_uri": "https://localhost:8080/"
        },
        "id": "jJeSEkgQUGm9",
        "outputId": "d46682ce-a37b-4ac3-c2a1-08c86d62d392"
      },
      "outputs": [
        {
          "data": {
            "text/plain": [
              "[{'name': 'DataScience'},\n",
              " {'id': 'DataScience'},\n",
              " {'name': 3},\n",
              " {'id': 3},\n",
              " {'name': 'is'},\n",
              " {'id': 'is'},\n",
              " {'name': 8},\n",
              " {'id': 8}]"
            ]
          },
          "execution_count": 22,
          "metadata": {},
          "output_type": "execute_result"
        }
      ],
      "source": [
        "test_list = [\"DataScience\", 3, \"is\", 8]\n",
        "key_list = [\"name\", \"id\"]\n",
        "[{b:a} for a in test_list for b in key_list]"
      ]
    },
    {
      "cell_type": "code",
      "execution_count": null,
      "metadata": {
        "colab": {
          "base_uri": "https://localhost:8080/"
        },
        "id": "DL27955kVFM7",
        "outputId": "a306154b-f0b8-4d55-b7bc-d040b6c4d356"
      },
      "outputs": [
        {
          "name": "stdout",
          "output_type": "stream",
          "text": [
            "[{'name': 'DataScience', 'id': 3}, {'name': 'is', 'id': 8}]\n"
          ]
        }
      ],
      "source": [
        "test_list = [\"DataScience\", 3, \"is\", 8]\n",
        "key_list = [\"name\", \"id\"]\n",
        "output_kama=[{key_list[0]:test_list[i],key_list[1]:test_list[i+1]} for i in range(0,len(test_list),2)]\n",
        "print(output_kama)"
      ]
    },
    {
      "cell_type": "code",
      "execution_count": null,
      "metadata": {
        "colab": {
          "base_uri": "https://localhost:8080/"
        },
        "id": "2lwsdPg-lDBJ",
        "outputId": "914d564f-7772-44f6-85bc-61bfbe071b24"
      },
      "outputs": [
        {
          "data": {
            "text/plain": [
              "[{'name': 'DataScience', 'id': 3}, {'name': 'is', 'id': 8}]"
            ]
          },
          "execution_count": 25,
          "metadata": {},
          "output_type": "execute_result"
        }
      ],
      "source": [
        "test_list = [\"DataScience\", 3, \"is\", 8]\n",
        "key_list = [\"name\", \"id\"]\n",
        "out_kama1=[{key_list[0]:test_list[i],key_list[1]:test_list[i+1]} for i in range(0,len(test_list),2)]\n",
        "out_kama1"
      ]
    },
    {
      "cell_type": "code",
      "execution_count": null,
      "metadata": {
        "colab": {
          "base_uri": "https://localhost:8080/"
        },
        "id": "cNdcoryapIwa",
        "outputId": "34b9662b-f351-4540-b6eb-54b97711dbef"
      },
      "outputs": [
        {
          "data": {
            "text/plain": [
              "{'akash': [10],\n",
              " 'gaurav': [12],\n",
              " 'anand': [14],\n",
              " 'suraj': [20],\n",
              " 'akhil': [25],\n",
              " 'ashish': [30]}"
            ]
          },
          "execution_count": 31,
          "metadata": {},
          "output_type": "execute_result"
        }
      ],
      "source": [
        "# Q4: Convert a list of Tuples into Dictionary.\n",
        "# Example 1:\n",
        "\n",
        "# Input:\n",
        "\n",
        "c10=[(\"akash\", 10), (\"gaurav\", 12), (\"anand\", 14), (\"suraj\", 20), (\"akhil\", 25), (\"ashish\", 30)]\n",
        "{a:[b] for (a,b) in c10}"
      ]
    },
    {
      "cell_type": "code",
      "execution_count": null,
      "metadata": {
        "colab": {
          "base_uri": "https://localhost:8080/"
        },
        "id": "hoTFUOsd4hSt",
        "outputId": "4d61f241-bf10-422f-b2c7-a7c7c2cd1062"
      },
      "outputs": [
        {
          "data": {
            "text/plain": [
              "{'A': [1], 'B': [2], 'C': [3]}"
            ]
          },
          "execution_count": 32,
          "metadata": {},
          "output_type": "execute_result"
        }
      ],
      "source": [
        "# Example 2:\n",
        "\n",
        "# Input:\n",
        "\n",
        "c11=[('A', 1), ('B', 2), ('C', 3)]\n",
        "{a:[b] for (a,b) in c11}"
      ]
    },
    {
      "cell_type": "code",
      "execution_count": null,
      "metadata": {
        "colab": {
          "base_uri": "https://localhost:8080/"
        },
        "id": "MUSF3tnO4vZm",
        "outputId": "8156489f-4c97-495b-98e0-55789fcc03b7"
      },
      "outputs": [
        {
          "data": {
            "text/plain": [
              "{'a': [4, 19], 'b': [10, 12], 'c': [3]}"
            ]
          },
          "execution_count": 41,
          "metadata": {},
          "output_type": "execute_result"
        }
      ],
      "source": [
        "# Q5: Sort Dictionary key and values List.\n",
        "# Example 1:\n",
        "\n",
        "# Input:\n",
        "\n",
        "a11={'c': [3], 'b': [12, 10], 'a': [19, 4]}\n",
        "{a:sorted(a11[a]) for a in sorted(a11)}\n"
      ]
    },
    {
      "cell_type": "code",
      "execution_count": null,
      "metadata": {
        "colab": {
          "base_uri": "https://localhost:8080/"
        },
        "id": "xnXoYZAYNItD",
        "outputId": "4dd44a63-04f5-4777-af80-0deaa422110b"
      },
      "outputs": [
        {
          "data": {
            "text/plain": [
              "{'a': [4, 19], 'b': [10, 12], 'c': [3]}"
            ]
          },
          "execution_count": 42,
          "metadata": {},
          "output_type": "execute_result"
        }
      ],
      "source": [
        "a12={'c': [3], 'b': [12, 10], 'a': [19, 4]}\n",
        "{a:sorted(a12[a]) for a in sorted(a12)}"
      ]
    },
    {
      "cell_type": "code",
      "execution_count": null,
      "metadata": {
        "colab": {
          "base_uri": "https://localhost:8080/"
        },
        "id": "_hz8WHU6PPC2",
        "outputId": "2ed4438d-f952-45a1-c657-fc82a95ec512"
      },
      "outputs": [
        {
          "data": {
            "text/plain": [
              "{'c': [3, 10, 34]}"
            ]
          },
          "execution_count": 43,
          "metadata": {},
          "output_type": "execute_result"
        }
      ],
      "source": [
        "a14={'c': [10, 34, 3]}\n",
        "{a:sorted(a14[a]) for a in sorted(a14)}"
      ]
    },
    {
      "cell_type": "code",
      "execution_count": null,
      "metadata": {
        "colab": {
          "base_uri": "https://localhost:8080/"
        },
        "id": "PRVe28R5Pv6q",
        "outputId": "cba87d57-af5c-4866-ee76-3aa34347324a"
      },
      "outputs": [
        {
          "data": {
            "text/plain": [
              "[[5, 6, 7, 8], [6, 10], [7, 13]]"
            ]
          },
          "execution_count": 45,
          "metadata": {},
          "output_type": "execute_result"
        }
      ],
      "source": [
        "#q1\n",
        "test_list = [(5, 6), (5, 7), (5, 8), (6, 10), (7, 13)]\n",
        "t={}\n",
        "for i in test_list:\n",
        "  key=i[0]\n",
        "  if key in t:\n",
        "    t[key].append(i[1])\n",
        "  else:\n",
        "    t[key]=[i[1]]\n",
        "[[key]+result for (key,result) in t.items()]"
      ]
    },
    {
      "cell_type": "code",
      "execution_count": null,
      "metadata": {
        "colab": {
          "base_uri": "https://localhost:8080/"
        },
        "id": "CpkTv1NDXWKs",
        "outputId": "a331bf40-eb1c-40a2-ae4b-88f690df5f4d"
      },
      "outputs": [
        {
          "name": "stdout",
          "output_type": "stream",
          "text": [
            "(5, 40, 91, 136, 80)\n"
          ]
        }
      ],
      "source": [
        "#q2\n",
        "a1=(1, 5, 7, 8, 10)\n",
        "sem=(a1[0]*a1[1],)+tuple(a*b+b*c for (a,b,c) in zip(a1,a1[1:],a1[2:]))+(a1[-1]*a1[-2],)\n",
        "print(sem)"
      ]
    },
    {
      "cell_type": "code",
      "execution_count": null,
      "metadata": {
        "colab": {
          "base_uri": "https://localhost:8080/"
        },
        "id": "xWSSzNkelcjf",
        "outputId": "7487607f-a34a-4898-ccbb-e2e6ce49c071"
      },
      "outputs": [
        {
          "name": "stdout",
          "output_type": "stream",
          "text": [
            "Same\n"
          ]
        }
      ],
      "source": [
        "t1 = (1,2,3,0)\n",
        "t2 = (1,2,3,0)\n",
        "flag=False\n",
        "for i in range(len(t1)):\n",
        "  if t1[i]!=t2[i]:\n",
        "    flag=True\n",
        "if flag:\n",
        "  print(\"Different\")\n",
        "else:\n",
        "  print(\"Same\")\n"
      ]
    },
    {
      "cell_type": "code",
      "execution_count": null,
      "metadata": {
        "colab": {
          "base_uri": "https://localhost:8080/"
        },
        "id": "pGLN72xsmLyG",
        "outputId": "ac3e24e0-1d47-4acf-9558-690e571414f8"
      },
      "outputs": [
        {
          "name": "stdout",
          "output_type": "stream",
          "text": [
            "List count: 2\n",
            "Set count: 2\n",
            "Tuple count: 1\n"
          ]
        }
      ],
      "source": [
        "list1 = [{'hi', 'bye'},{'Geeks', 'forGeeks'},('a', 'b'),['hi', 'bye'],['a', 'b']]\n",
        "count_list=0\n",
        "count_set=0\n",
        "count_tuple=0\n",
        "for i in list1:\n",
        "  if isinstance(i,list):\n",
        "    count_list+=1\n",
        "  elif isinstance(i,set):\n",
        "    count_set+=1\n",
        "  elif isinstance(i,tuple):\n",
        "    count_tuple+=1\n",
        "print(f\"List count: {count_list}\")\n",
        "print(f\"Set count: {count_set}\")\n",
        "print(f\"Tuple count: {count_tuple}\")\n"
      ]
    },
    {
      "cell_type": "code",
      "execution_count": null,
      "metadata": {
        "colab": {
          "base_uri": "https://localhost:8080/"
        },
        "id": "5HnyfQhrq3n4",
        "outputId": "85fc65f7-9f19-4281-c8c8-2c0a45a51caa"
      },
      "outputs": [
        {
          "data": {
            "text/plain": [
              "[80, 20]"
            ]
          },
          "execution_count": 50,
          "metadata": {},
          "output_type": "execute_result"
        }
      ],
      "source": [
        "ar1 = [1, 5, 10, 20, 40, 80]\n",
        "ar2 = [6, 7, 20, 80, 100]\n",
        "ar3 = [3, 4, 15, 20, 30, 70, 80, 120]\n",
        "fs1=frozenset(ar1)\n",
        "fs2=frozenset(ar2)\n",
        "fs3=frozenset(ar3)\n",
        "list(fs1&fs2&fs3)"
      ]
    },
    {
      "cell_type": "code",
      "execution_count": null,
      "metadata": {
        "colab": {
          "base_uri": "https://localhost:8080/"
        },
        "id": "ec95Ps-t0FVn",
        "outputId": "817c0bcb-96e6-44d8-e823-9cfbd3aaa97d"
      },
      "outputs": [
        {
          "data": {
            "text/plain": [
              "6"
            ]
          },
          "execution_count": 52,
          "metadata": {},
          "output_type": "execute_result"
        }
      ],
      "source": [
        "Str1 = \"hands-on data science mentorship progrAm with live classes at affordable fee only on CampusX\"\n",
        "d1=['a','e','i','o','u','A','E','I','O','U']\n",
        "e1=[]\n",
        "for i in Str1:\n",
        "  if i in d1:\n",
        "    e1.append(i)\n",
        "len(set(e1))"
      ]
    },
    {
      "cell_type": "code",
      "execution_count": null,
      "metadata": {
        "colab": {
          "base_uri": "https://localhost:8080/"
        },
        "id": "FlwRO55nV1WU",
        "outputId": "eb68b6f3-db48-416f-ef62-6fddb4dbde6f"
      },
      "outputs": [
        {
          "name": "stdout",
          "output_type": "stream",
          "text": [
            "Enter the string: campusx\n",
            "Not binary\n"
          ]
        }
      ],
      "source": [
        "#q3\n",
        "def mnd(a):\n",
        "  a1=[]\n",
        "  for i in a:\n",
        "    a1.append(i)\n",
        "  c1=len(set(a1))\n",
        "  if c1==2:\n",
        "    print(\"binary\")\n",
        "  else:\n",
        "    print(\"Not binary\")\n",
        "a21=input(\"Enter the string: \")\n",
        "mnd(a21)"
      ]
    },
    {
      "cell_type": "code",
      "execution_count": null,
      "metadata": {
        "colab": {
          "base_uri": "https://localhost:8080/"
        },
        "id": "9vkmRWKidalf",
        "outputId": "4d6730ff-bdfe-466d-fb8d-f6eb1d8e27ca"
      },
      "outputs": [
        {
          "name": "stdout",
          "output_type": "stream",
          "text": [
            "[1, 2, 3, 4, 5, 6, 7, 9]\n"
          ]
        }
      ],
      "source": [
        "a12=[[1, 2, 2, 4, 3, 6],\n",
        " [5, 1, 3, 4],\n",
        " [9, 5, 7, 1],\n",
        " [2, 4, 1, 3]]\n",
        "s1=frozenset([])\n",
        "for i in a12:\n",
        "  s1=s1|frozenset(i)\n",
        "print(list(s1))"
      ]
    },
    {
      "cell_type": "code",
      "execution_count": null,
      "metadata": {
        "colab": {
          "background_save": true,
          "base_uri": "https://localhost:8080/",
          "height": 217
        },
        "id": "dMakeErbkGPQ",
        "outputId": "1d6c3b4f-b674-43fa-895b-c8fcb05d90bc"
      },
      "outputs": [
        {
          "ename": "AttributeError",
          "evalue": "ignored",
          "output_type": "error",
          "traceback": [
            "\u001b[0;31m---------------------------------------------------------------------------\u001b[0m",
            "\u001b[0;31mAttributeError\u001b[0m                            Traceback (most recent call last)",
            "\u001b[0;32m<ipython-input-7-d1a12e8f43d1>\u001b[0m in \u001b[0;36m<cell line: 6>\u001b[0;34m()\u001b[0m\n\u001b[1;32m      5\u001b[0m \u001b[0ma1\u001b[0m\u001b[0;34m=\u001b[0m\u001b[0mset\u001b[0m\u001b[0;34m(\u001b[0m\u001b[0;34m)\u001b[0m\u001b[0;34m\u001b[0m\u001b[0;34m\u001b[0m\u001b[0m\n\u001b[1;32m      6\u001b[0m \u001b[0;32mfor\u001b[0m \u001b[0mi\u001b[0m \u001b[0;32min\u001b[0m \u001b[0ma12\u001b[0m\u001b[0;34m:\u001b[0m\u001b[0;34m\u001b[0m\u001b[0;34m\u001b[0m\u001b[0m\n\u001b[0;32m----> 7\u001b[0;31m   \u001b[0ma1\u001b[0m\u001b[0;34m=\u001b[0m\u001b[0ma1\u001b[0m\u001b[0;34m.\u001b[0m\u001b[0mupdate\u001b[0m\u001b[0;34m(\u001b[0m\u001b[0mset\u001b[0m\u001b[0;34m(\u001b[0m\u001b[0mi\u001b[0m\u001b[0;34m)\u001b[0m\u001b[0;34m)\u001b[0m\u001b[0;34m\u001b[0m\u001b[0;34m\u001b[0m\u001b[0m\n\u001b[0m\u001b[1;32m      8\u001b[0m \u001b[0mprint\u001b[0m\u001b[0;34m(\u001b[0m\u001b[0ma1\u001b[0m\u001b[0;34m)\u001b[0m\u001b[0;34m\u001b[0m\u001b[0;34m\u001b[0m\u001b[0m\n",
            "\u001b[0;31mAttributeError\u001b[0m: 'NoneType' object has no attribute 'update'"
          ]
        }
      ],
      "source": [
        "a12=[[1, 2, 2, 4, 3, 6],\n",
        " [5, 1, 3, 4],\n",
        " [9, 5, 7, 1],\n",
        " [2, 4, 1, 3]]\n",
        "a1=set()\n",
        "for i in a12:\n",
        "  a1=a1.update(seti)\n",
        "print(a1)"
      ]
    },
    {
      "cell_type": "code",
      "source": [
        "test_dict = {\"CampusX\" : [5, 7, 9, 4, 0], \"is\" : [6, 7, 4, 3, 3], \"Best\" : [9, 9, 6, 5, 5]}\n",
        "tester1={}\n",
        "for i in test_dict:\n",
        "  tester1[i]=len(set(test_dict[i]))\n",
        "\"\".join([a for a in tester1 if tester1[a]==max(tester1.values())])"
      ],
      "metadata": {
        "colab": {
          "base_uri": "https://localhost:8080/",
          "height": 36
        },
        "id": "R4D5N576nP9i",
        "outputId": "a82d5719-b4ca-4e86-f85a-2b6daecf42d3"
      },
      "execution_count": null,
      "outputs": [
        {
          "output_type": "execute_result",
          "data": {
            "text/plain": [
              "'CampusX'"
            ],
            "application/vnd.google.colaboratory.intrinsic+json": {
              "type": "string"
            }
          },
          "metadata": {},
          "execution_count": 2
        }
      ]
    },
    {
      "cell_type": "code",
      "source": [
        "test_dict1 = {\"CampusX\" : [5, 7, 7, 7, 7], \"is\" : [6, 7, 7, 7], \"Best\" : [9, 9, 6, 5, 5]}\n",
        "tester2={}\n",
        "for i in test_dict1:\n",
        "  tester2[i]=len(set(test_dict1[i]))\n",
        "\"\".join([a for a in tester2 if tester2[a]==max(tester2.values())])"
      ],
      "metadata": {
        "id": "E5_tcWDtu7Dm",
        "colab": {
          "base_uri": "https://localhost:8080/",
          "height": 36
        },
        "outputId": "be8c7daf-4024-4615-8f72-b55bbaf4638e"
      },
      "execution_count": null,
      "outputs": [
        {
          "output_type": "execute_result",
          "data": {
            "text/plain": [
              "'Best'"
            ],
            "application/vnd.google.colaboratory.intrinsic+json": {
              "type": "string"
            }
          },
          "metadata": {},
          "execution_count": 3
        }
      ]
    },
    {
      "cell_type": "code",
      "source": [
        "test_str = 'CampusX best for DS students.'\n",
        "repl_dict = {\"best\" : \"is the best channel\", \"DS\" : \"Data-Science\"}\n",
        "c1=test_str.split()\n",
        "for i in range(len(c1)):\n",
        "  if c1[i] in repl_dict:\n",
        "    c1[i]=repl_dict[c1[i]]\n",
        "\" \".join(c1)\n"
      ],
      "metadata": {
        "colab": {
          "base_uri": "https://localhost:8080/",
          "height": 36
        },
        "id": "NWgkMxBOiE-G",
        "outputId": "d53fa8fb-1186-402e-ecca-2a778d45e151"
      },
      "execution_count": null,
      "outputs": [
        {
          "output_type": "execute_result",
          "data": {
            "text/plain": [
              "'CampusX is the best channel for Data-Science students.'"
            ],
            "application/vnd.google.colaboratory.intrinsic+json": {
              "type": "string"
            }
          },
          "metadata": {},
          "execution_count": 1
        }
      ]
    },
    {
      "cell_type": "code",
      "source": [
        "test_list = [\"DataScience\", 3, \"is\", 8]\n",
        "key_list = [\"name\", \"id\"]\n",
        "[{key_list[0]:test_list[i],key_list[1]:test_list[i+1]} for i in range(0,len(test_list),2)]"
      ],
      "metadata": {
        "colab": {
          "base_uri": "https://localhost:8080/"
        },
        "id": "3URTVEH1i_u8",
        "outputId": "c2025a45-2807-49c8-cdaf-c27f72b7c739"
      },
      "execution_count": null,
      "outputs": [
        {
          "output_type": "execute_result",
          "data": {
            "text/plain": [
              "[{'name': 'DataScience', 'id': 3}, {'name': 'is', 'id': 8}]"
            ]
          },
          "metadata": {},
          "execution_count": 2
        }
      ]
    },
    {
      "cell_type": "code",
      "source": [
        "a12=[(\"akash\", 10), (\"gaurav\", 12), (\"anand\", 14), (\"suraj\", 20), (\"akhil\", 25), (\"ashish\", 30)]\n",
        "{a:[b] for (a,b) in a12}"
      ],
      "metadata": {
        "id": "KN0jnxgLn-RE",
        "colab": {
          "base_uri": "https://localhost:8080/"
        },
        "outputId": "0807f0b1-836b-4189-d4b5-cfab87391efb"
      },
      "execution_count": null,
      "outputs": [
        {
          "output_type": "execute_result",
          "data": {
            "text/plain": [
              "{'akash': [10],\n",
              " 'gaurav': [12],\n",
              " 'anand': [14],\n",
              " 'suraj': [20],\n",
              " 'akhil': [25],\n",
              " 'ashish': [30]}"
            ]
          },
          "metadata": {},
          "execution_count": 3
        }
      ]
    },
    {
      "cell_type": "code",
      "source": [
        "a13={'c': [3], 'b': [12, 10], 'a': [19, 4]}\n",
        "{a:sorted(a13[a]) for a in sorted(list(a13))}"
      ],
      "metadata": {
        "colab": {
          "base_uri": "https://localhost:8080/"
        },
        "id": "3nUh-gOPNLwg",
        "outputId": "602f8997-0449-47a7-85c9-cba7c78ed4b6"
      },
      "execution_count": null,
      "outputs": [
        {
          "output_type": "execute_result",
          "data": {
            "text/plain": [
              "{'a': [4, 19], 'b': [10, 12], 'c': [3]}"
            ]
          },
          "metadata": {},
          "execution_count": 5
        }
      ]
    },
    {
      "cell_type": "code",
      "source": [
        "a14={'c': [3], 'b': [12, 10], 'a': [19, 4]}\n",
        "list(a14)"
      ],
      "metadata": {
        "colab": {
          "base_uri": "https://localhost:8080/"
        },
        "id": "kcBCupmTPVr-",
        "outputId": "8b89205d-02e5-48c3-ec3b-7bfa2222cad1"
      },
      "execution_count": null,
      "outputs": [
        {
          "output_type": "execute_result",
          "data": {
            "text/plain": [
              "['c', 'b', 'a']"
            ]
          },
          "metadata": {},
          "execution_count": 4
        }
      ]
    },
    {
      "cell_type": "code",
      "source": [
        "#map(function,iterable)\n",
        "#use of map function\n",
        "def square(x):\n",
        "  return x**2\n",
        "a1=[1,2,3,4]\n",
        "squared=map(square,a1)\n",
        "print(list(squared))"
      ],
      "metadata": {
        "colab": {
          "base_uri": "https://localhost:8080/"
        },
        "id": "Smu-cO8yss42",
        "outputId": "e3089a1c-f402-4b83-f317-2f9d1a475983"
      },
      "execution_count": null,
      "outputs": [
        {
          "output_type": "stream",
          "name": "stdout",
          "text": [
            "[1, 4, 9, 16]\n"
          ]
        }
      ]
    },
    {
      "cell_type": "code",
      "source": [
        "#q1\n",
        "test_list = [(5, 6), (5, 7), (5, 8), (6, 10), (7, 13)]\n",
        "s1=[]\n",
        "for i in test_list:\n",
        "  s1.append(i[0])\n",
        "s1=set(s1)\n",
        "s2=[]\n",
        "for i in s1:\n",
        "  s2.append([i])\n",
        "  for j in test_list:\n",
        "    if i==j[0]:\n",
        "      s2[-1].append(j[1])\n",
        "print(list(map(tuple,s2)))\n"
      ],
      "metadata": {
        "colab": {
          "base_uri": "https://localhost:8080/"
        },
        "id": "GSQ3nQoLyCld",
        "outputId": "8ba34bbe-8fa2-4e3c-beb1-c736c9f8a4a9"
      },
      "execution_count": null,
      "outputs": [
        {
          "output_type": "stream",
          "name": "stdout",
          "text": [
            "[(5, 6, 7, 8), (6, 10), (7, 13)]\n"
          ]
        }
      ]
    },
    {
      "cell_type": "code",
      "source": [
        "test_list = [(5, 6), (5, 7), (5, 8), (6, 10), (7, 13)]\n",
        "s1=[]\n",
        "for i in test_list:\n",
        "  s1.append(i[0])\n",
        "s1=set(s1)\n",
        "s2=[]\n",
        "for i in s1:\n",
        "  s2.append([i])\n",
        "  for j in test_list:\n",
        "    if i==j[0]:\n",
        "      s2[-1].append(j[1])\n",
        "list(map(tuple,s2))\n"
      ],
      "metadata": {
        "colab": {
          "base_uri": "https://localhost:8080/"
        },
        "id": "e5qGKt2j7pOz",
        "outputId": "47d20078-a7ea-4b06-9f09-fd5dfad8a49b"
      },
      "execution_count": null,
      "outputs": [
        {
          "output_type": "execute_result",
          "data": {
            "text/plain": [
              "[(5, 6, 7, 8), (6, 10), (7, 13)]"
            ]
          },
          "metadata": {},
          "execution_count": 7
        }
      ]
    },
    {
      "cell_type": "code",
      "source": [
        "#q2\n",
        "t1=(1, 5, 7, 8, 10)\n",
        "t2=[]\n",
        "t2.append(t1[0]*t1[1])\n",
        "for i in range(1,len(t1)-1):\n",
        "  t2.append(t1[i-1]*t1[i]+t1[i]*t1[i+1])\n",
        "t2.append(t1[-1]*t1[-2])\n",
        "print(tuple(t2))"
      ],
      "metadata": {
        "id": "c-9NYYkmC81y",
        "colab": {
          "base_uri": "https://localhost:8080/"
        },
        "outputId": "f4b97a68-f771-44e8-d8f8-f4a78c93417e"
      },
      "execution_count": null,
      "outputs": [
        {
          "output_type": "stream",
          "name": "stdout",
          "text": [
            "(5, 40, 91, 136, 80)\n"
          ]
        }
      ]
    },
    {
      "cell_type": "code",
      "source": [
        "for i in range(15):\n",
        "  if i in (0,1,2,3,4,5,6,7,8,9):\n",
        "    continue\n",
        "    print(\"kaha\")\n",
        "  else:\n",
        "    print(i)\n",
        "  print(\"kabhi\")\n",
        "#the moment you come across continue , nothing below gets printed"
      ],
      "metadata": {
        "colab": {
          "base_uri": "https://localhost:8080/"
        },
        "id": "dGj2LXzGX_ud",
        "outputId": "a9ef7d15-b7bd-492b-a86c-9f6e43494024"
      },
      "execution_count": null,
      "outputs": [
        {
          "output_type": "stream",
          "name": "stdout",
          "text": [
            "10\n",
            "kabhi\n",
            "11\n",
            "kabhi\n",
            "12\n",
            "kabhi\n",
            "13\n",
            "kabhi\n",
            "14\n",
            "kabhi\n"
          ]
        }
      ]
    },
    {
      "cell_type": "code",
      "source": [
        "#q3\n",
        "t1 = (1,2,3,0)\n",
        "t2 = (0,1,2,3)\n",
        "flag=True\n",
        "for i,j in zip(t1,t2):\n",
        "  if i==j:\n",
        "    continue\n",
        "  else:\n",
        "    flag=False\n",
        "    break\n",
        "if flag:\n",
        "  print(\"Same\")\n",
        "else:\n",
        "  print(\"different\")"
      ],
      "metadata": {
        "colab": {
          "base_uri": "https://localhost:8080/"
        },
        "id": "dxSLnOHXoRBd",
        "outputId": "b854f3ca-cb93-4f52-b726-bd6fb6df2ee3"
      },
      "execution_count": null,
      "outputs": [
        {
          "output_type": "stream",
          "name": "stdout",
          "text": [
            "different\n"
          ]
        }
      ]
    },
    {
      "cell_type": "code",
      "source": [
        "list1 = [{'hi', 'bye'},{'Geeks', 'forGeeks'},('a', 'b'),['hi', 'bye'],['a', 'b']]\n",
        "obj32=[0,0,0]\n",
        "for i in list1:\n",
        "  if type(i)==tuple:\n",
        "    obj32[0]=obj32[0]+1\n",
        "  elif type(i)==list:\n",
        "    obj32[1]=obj32[1]+1\n",
        "  elif type(i)==set:\n",
        "    obj32[2]=obj32[2]+1\n",
        "\n",
        "print(f\"Tuple: {obj32[0]}\\nList:{obj32[1]}\\nSet:{obj32[2]}\")"
      ],
      "metadata": {
        "colab": {
          "base_uri": "https://localhost:8080/"
        },
        "id": "eybrXjDxvKfT",
        "outputId": "0d8f4c82-08eb-4677-fbb2-b238ac85e851"
      },
      "execution_count": null,
      "outputs": [
        {
          "output_type": "stream",
          "name": "stdout",
          "text": [
            "Tuple: 1\n",
            "List:2\n",
            "Set:2\n"
          ]
        }
      ]
    },
    {
      "cell_type": "code",
      "source": [
        "ar1 = [1, 5, 10, 20, 40, 80]\n",
        "ar2 = [6, 7, 20, 80, 100]\n",
        "ar3 = [3, 4, 15, 20, 30, 70, 80, 120]\n",
        "ar11=set(ar1)\n",
        "ar22=set(ar2)\n",
        "ar33=set(ar3)\n",
        "list(ar11&ar22&ar33)"
      ],
      "metadata": {
        "colab": {
          "base_uri": "https://localhost:8080/"
        },
        "id": "YadPORkrLwn4",
        "outputId": "78f0fd9d-10b6-4418-a552-1999f94a0f1f"
      },
      "execution_count": null,
      "outputs": [
        {
          "output_type": "execute_result",
          "data": {
            "text/plain": [
              "[80, 20]"
            ]
          },
          "metadata": {},
          "execution_count": 7
        }
      ]
    },
    {
      "cell_type": "code",
      "source": [
        "Str1 = set(\"hands-on data science mentorship progrAm with live classes at affordable fee only on CampusX\")\n",
        "Str1"
      ],
      "metadata": {
        "colab": {
          "base_uri": "https://localhost:8080/"
        },
        "id": "PLEN5UUay6yE",
        "outputId": "986f68b6-de87-4f11-99bd-fe8e198fe4fd"
      },
      "execution_count": null,
      "outputs": [
        {
          "output_type": "execute_result",
          "data": {
            "text/plain": [
              "{' ',\n",
              " '-',\n",
              " 'A',\n",
              " 'C',\n",
              " 'X',\n",
              " 'a',\n",
              " 'b',\n",
              " 'c',\n",
              " 'd',\n",
              " 'e',\n",
              " 'f',\n",
              " 'g',\n",
              " 'h',\n",
              " 'i',\n",
              " 'l',\n",
              " 'm',\n",
              " 'n',\n",
              " 'o',\n",
              " 'p',\n",
              " 'r',\n",
              " 's',\n",
              " 't',\n",
              " 'u',\n",
              " 'v',\n",
              " 'w',\n",
              " 'y'}"
            ]
          },
          "metadata": {},
          "execution_count": 2
        }
      ]
    },
    {
      "cell_type": "code",
      "source": [
        "s1=set('aeiouAEIOU')\n",
        "print(s1)\n",
        "#on applying set or list function to a string, every character in string gets converted into seperate items of string"
      ],
      "metadata": {
        "colab": {
          "base_uri": "https://localhost:8080/"
        },
        "id": "Q6-qSfbTzQeF",
        "outputId": "1e6dd616-b560-4970-d6de-4b63a7f23e92"
      },
      "execution_count": null,
      "outputs": [
        {
          "output_type": "stream",
          "name": "stdout",
          "text": [
            "{'E', 'o', 'e', 'A', 'i', 'O', 'U', 'a', 'u', 'I'}\n"
          ]
        }
      ]
    },
    {
      "cell_type": "code",
      "source": [
        "my_list = [1, 2, 3, 4, 5]\n",
        "result = my_list[3:0:-1]\n",
        "print(result)"
      ],
      "metadata": {
        "colab": {
          "base_uri": "https://localhost:8080/"
        },
        "id": "Gn36UnfZz2n1",
        "outputId": "b6eb15d4-25a6-4ddb-f407-4cb598debc14"
      },
      "execution_count": null,
      "outputs": [
        {
          "output_type": "stream",
          "name": "stdout",
          "text": [
            "[4, 3, 2]\n"
          ]
        }
      ]
    },
    {
      "cell_type": "code",
      "source": [
        "Str1 = set(\"hands-on data science mentorship progrAm with live classes at affordable fee only on CampusX\")\n",
        "s2=set(\"aeiouAEIOU\")\n",
        "print(f\"Length is {len(Str1&s2)}\")"
      ],
      "metadata": {
        "colab": {
          "base_uri": "https://localhost:8080/"
        },
        "id": "tZB2F62g9BJC",
        "outputId": "3177bd81-c212-4ae9-edea-26558cdb135c"
      },
      "execution_count": null,
      "outputs": [
        {
          "output_type": "stream",
          "name": "stdout",
          "text": [
            "Length is 6\n"
          ]
        }
      ]
    },
    {
      "cell_type": "code",
      "source": [
        "#set doesnot have duplicates\n",
        "a11=[[1, 2, 2, 4, 3, 6],\n",
        " [5, 1, 3, 4],\n",
        " [9, 5, 7, 1],\n",
        " [2, 4, 1, 3]]\n",
        "s1=set()\n",
        "for i in a11:\n",
        "  s1.update(i)\n",
        "print(s1)"
      ],
      "metadata": {
        "colab": {
          "base_uri": "https://localhost:8080/"
        },
        "id": "-991uXuWApBW",
        "outputId": "a663a3dd-af34-4e83-aa08-ca1ff74623eb"
      },
      "execution_count": null,
      "outputs": [
        {
          "output_type": "stream",
          "name": "stdout",
          "text": [
            "{1, 2, 3, 4, 5, 6, 7, 9}\n"
          ]
        }
      ]
    },
    {
      "cell_type": "code",
      "source": [
        "{1,2,3}=={3,2,1}\n",
        "#set doesnot takes duplicates and set is unordered unlike tuple,list"
      ],
      "metadata": {
        "colab": {
          "base_uri": "https://localhost:8080/"
        },
        "id": "N44ETOhIClIs",
        "outputId": "214cc886-16dc-4ace-c863-fbf95be45c38"
      },
      "execution_count": null,
      "outputs": [
        {
          "output_type": "execute_result",
          "data": {
            "text/plain": [
              "True"
            ]
          },
          "metadata": {},
          "execution_count": 8
        }
      ]
    },
    {
      "cell_type": "code",
      "source": [
        "lst1 = {15, 9, 10, 56, 23, 78, 5, 4, 9}\n",
        "lst2 = {9, 4, 5, 36, 47, 26, 10, 45, 87}\n",
        "[a for a in lst1 if a in lst2]\n",
        "#this is another way finding common items"
      ],
      "metadata": {
        "colab": {
          "base_uri": "https://localhost:8080/"
        },
        "id": "bgrF7307CuXp",
        "outputId": "fd36ef66-cd23-4895-80ec-b8d1a70eb8b4"
      },
      "execution_count": null,
      "outputs": [
        {
          "output_type": "execute_result",
          "data": {
            "text/plain": [
              "[4, 5, 9, 10]"
            ]
          },
          "metadata": {},
          "execution_count": 9
        }
      ]
    },
    {
      "cell_type": "code",
      "source": [
        "test_dict = {\"CampusX\" : [5, 7, 9, 4, 0], \"is\" : [6, 7, 4, 3, 3], \"Best\" : [9, 9, 6, 5, 5]}\n",
        "max_value=0\n",
        "max_item=\"\"\n",
        "for i in test_dict:\n",
        "  if max_value<len(set(test_dict[i])):\n",
        "    max_value=len(set(test_dict[i]))\n",
        "    max_item=i\n",
        "print(max_item)"
      ],
      "metadata": {
        "colab": {
          "base_uri": "https://localhost:8080/"
        },
        "id": "yMRdtxd8C9m2",
        "outputId": "0fc1be06-6e0b-4d1b-b7e5-2704f172dbe1"
      },
      "execution_count": null,
      "outputs": [
        {
          "output_type": "stream",
          "name": "stdout",
          "text": [
            "CampusX\n"
          ]
        }
      ]
    },
    {
      "cell_type": "code",
      "source": [
        "test_str = 'CampusX best for DS students.'\n",
        "repl_dict = {\"best\" : \"is the best channel\", \"DS\" : \"Data-Science\"}\n",
        "d11=[]\n",
        "for i in test_str.split():\n",
        "  if i in repl_dict:\n",
        "    d11.append(repl_dict[i])\n",
        "  else:\n",
        "    d11.append(i)\n",
        "\" \".join(d11)\n"
      ],
      "metadata": {
        "colab": {
          "base_uri": "https://localhost:8080/",
          "height": 36
        },
        "id": "Dl4hmpozJQAv",
        "outputId": "8c128f27-2607-4726-fc43-782ef5d4d03b"
      },
      "execution_count": null,
      "outputs": [
        {
          "output_type": "execute_result",
          "data": {
            "text/plain": [
              "'CampusX is the best channel for Data-Science students.'"
            ],
            "application/vnd.google.colaboratory.intrinsic+json": {
              "type": "string"
            }
          },
          "metadata": {},
          "execution_count": 11
        }
      ]
    },
    {
      "cell_type": "code",
      "source": [
        "test_list = [\"DataScience\", 3, \"is\", 8]\n",
        "key_list = [\"name\", \"id\"]\n",
        "[{key_list[0]:test_list[i],key_list[1]:test_list[i+1]} for i in range(0,len(test_list),2)]"
      ],
      "metadata": {
        "colab": {
          "base_uri": "https://localhost:8080/"
        },
        "id": "p_EIBprjNG7G",
        "outputId": "6755b12e-a0c4-4f26-b70d-8e5e8c126ee7"
      },
      "execution_count": null,
      "outputs": [
        {
          "output_type": "execute_result",
          "data": {
            "text/plain": [
              "[{'name': 'DataScience', 'id': 3}, {'name': 'is', 'id': 8}]"
            ]
          },
          "metadata": {},
          "execution_count": 12
        }
      ]
    },
    {
      "cell_type": "code",
      "source": [
        "smw=[(\"akash\", 10), (\"gaurav\", 12), (\"anand\", 14), (\"suraj\", 20), (\"akhil\", 25), (\"ashish\", 30)]\n",
        "{a:[b] for (a,b) in smw}"
      ],
      "metadata": {
        "colab": {
          "base_uri": "https://localhost:8080/"
        },
        "id": "nlT4esqyNil7",
        "outputId": "4b75e643-6f07-4cb4-a881-08d854dc123a"
      },
      "execution_count": null,
      "outputs": [
        {
          "output_type": "execute_result",
          "data": {
            "text/plain": [
              "{'akash': [10],\n",
              " 'gaurav': [12],\n",
              " 'anand': [14],\n",
              " 'suraj': [20],\n",
              " 'akhil': [25],\n",
              " 'ashish': [30]}"
            ]
          },
          "metadata": {},
          "execution_count": 13
        }
      ]
    },
    {
      "cell_type": "code",
      "source": [
        "d11={'c': [3], 'b': [12, 10], 'a': [19, 4]}\n",
        "{a:sorted(d11[a]) for a in sorted(list(d11))}"
      ],
      "metadata": {
        "colab": {
          "base_uri": "https://localhost:8080/"
        },
        "id": "rkH2BW_wRmeF",
        "outputId": "718fc8ea-7532-4fcd-8931-826dbd389fa0"
      },
      "execution_count": null,
      "outputs": [
        {
          "output_type": "execute_result",
          "data": {
            "text/plain": [
              "{'a': [4, 19], 'b': [10, 12], 'c': [3]}"
            ]
          },
          "metadata": {},
          "execution_count": 14
        }
      ]
    }
  ],
  "metadata": {
    "colab": {
      "provenance": []
    },
    "kernelspec": {
      "display_name": "Python 3",
      "name": "python3"
    },
    "language_info": {
      "name": "python"
    }
  },
  "nbformat": 4,
  "nbformat_minor": 0
}